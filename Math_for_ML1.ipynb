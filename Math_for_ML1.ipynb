{
  "nbformat": 4,
  "nbformat_minor": 0,
  "metadata": {
    "colab": {
      "provenance": [],
      "authorship_tag": "ABX9TyOZo4oeu7w+8D1E/S1vK5dS",
      "include_colab_link": true
    },
    "kernelspec": {
      "name": "python3",
      "display_name": "Python 3"
    },
    "language_info": {
      "name": "python"
    }
  },
  "cells": [
    {
      "cell_type": "markdown",
      "metadata": {
        "id": "view-in-github",
        "colab_type": "text"
      },
      "source": [
        "<a href=\"https://colab.research.google.com/github/afshari-maryam/MachineLearning-Math/blob/main/Math_for_ML1.ipynb\" target=\"_parent\"><img src=\"https://colab.research.google.com/assets/colab-badge.svg\" alt=\"Open In Colab\"/></a>"
      ]
    },
    {
      "cell_type": "markdown",
      "source": [
        "1. Every group have  to download the Excel files:\n",
        "2. Each file has three recorded values of water flow recorded using three sensors S1,S2, and S3.\n",
        "\n",
        "  2.A.Compute the central tendency measures\n",
        "\n",
        "  2.B. Compute the spread measures\n",
        "\n",
        "  2.c. What can you say about S1, S2, S3\n",
        "  \n",
        "    In terms of Means, Variance, and Standard deviation\n",
        "    Which one of the sensors is different from the others\n",
        "    Is it possible to divide a categorical dataset using quartiles\n",
        "3. Suppose we have list of set of colors\n",
        "  Colors = [Red, Green, Blue, Blue, Green, Red, Yellow, Orange, Purple, Blue, Green, Red, Blue, Yellow, Orange, Green, Blue, Red, Yellow, Green]\n",
        "\n",
        "    How can we make Quartiles in such a case?\n",
        "\n",
        "\n"
      ],
      "metadata": {
        "id": "E7tOt1fTHjbH"
      }
    },
    {
      "cell_type": "code",
      "execution_count": null,
      "metadata": {
        "id": "U_W5NtvwHawl"
      },
      "outputs": [],
      "source": [
        "import numpy as np\n",
        "import pandas as pd"
      ]
    },
    {
      "cell_type": "code",
      "source": [
        "from google.colab import drive\n",
        "drive.mount('/content/drive')"
      ],
      "metadata": {
        "colab": {
          "base_uri": "https://localhost:8080/"
        },
        "id": "NKXlEJ2TIB3h",
        "outputId": "92b575b3-de42-4662-c4bb-098dfd75856a"
      },
      "execution_count": null,
      "outputs": [
        {
          "output_type": "stream",
          "name": "stdout",
          "text": [
            "Mounted at /content/drive\n"
          ]
        }
      ]
    },
    {
      "cell_type": "code",
      "source": [
        "import pandas as pd\n",
        "# Read Excel file\n",
        "df = pd.read_excel('/content/drive/MyDrive/Assignment-Math-for-ML/Group5.xlsx')\n",
        "print(df)"
      ],
      "metadata": {
        "colab": {
          "base_uri": "https://localhost:8080/"
        },
        "id": "A8c_KDOZIPs9",
        "outputId": "624152e0-5eb9-430c-abfd-3f347051be6b"
      },
      "execution_count": null,
      "outputs": [
        {
          "output_type": "stream",
          "name": "stdout",
          "text": [
            "      S1   S2   S3\n",
            "0    502  378  314\n",
            "1    491  369  390\n",
            "2    472  363  344\n",
            "3    470  386  355\n",
            "4    477  389  383\n",
            "..   ...  ...  ...\n",
            "127  500  385  314\n",
            "128  458  378  371\n",
            "129  488  386  389\n",
            "130  509  378  306\n",
            "131  516  347  327\n",
            "\n",
            "[132 rows x 3 columns]\n"
          ]
        }
      ]
    },
    {
      "cell_type": "markdown",
      "source": [
        "# 2.A \n",
        "**Compute the central tendency measures**"
      ],
      "metadata": {
        "id": "GnbgxwDIKOGd"
      }
    },
    {
      "cell_type": "code",
      "source": [
        "print(\"Means:\\n\",df.mean())"
      ],
      "metadata": {
        "colab": {
          "base_uri": "https://localhost:8080/"
        },
        "id": "7GuqWns4J_MF",
        "outputId": "eae549ab-9dbb-4934-bdf3-5fe2332557fe"
      },
      "execution_count": null,
      "outputs": [
        {
          "output_type": "stream",
          "name": "stdout",
          "text": [
            "central tendency measures:\n",
            " S1    483.424242\n",
            "S2    375.590909\n",
            "S3    351.727273\n",
            "dtype: float64\n"
          ]
        }
      ]
    },
    {
      "cell_type": "code",
      "source": [
        "print(\"Medians:\\n\",df.median())"
      ],
      "metadata": {
        "colab": {
          "base_uri": "https://localhost:8080/"
        },
        "id": "CKbqcMwPPOsF",
        "outputId": "1690d78e-535a-4596-8f7d-8cc83c639f85"
      },
      "execution_count": null,
      "outputs": [
        {
          "output_type": "stream",
          "name": "stdout",
          "text": [
            "Medians:\n",
            " S1    481.5\n",
            "S2    378.0\n",
            "S3    357.5\n",
            "dtype: float64\n"
          ]
        }
      ]
    },
    {
      "cell_type": "code",
      "source": [
        "print(\"Modes:\\n\",df.mode())"
      ],
      "metadata": {
        "colab": {
          "base_uri": "https://localhost:8080/"
        },
        "id": "CCX-9x7BPtaj",
        "outputId": "4c766adc-7bdc-44a8-b880-f027e21966ad"
      },
      "execution_count": null,
      "outputs": [
        {
          "output_type": "stream",
          "name": "stdout",
          "text": [
            "Modes:\n",
            "     S1     S2     S3\n",
            "0  465  378.0  371.0\n",
            "1  492    NaN  379.0\n",
            "2  509    NaN    NaN\n"
          ]
        }
      ]
    },
    {
      "cell_type": "markdown",
      "source": [
        "#2.B. \n",
        "**Compute the spread measures**"
      ],
      "metadata": {
        "id": "GEW-kCzTKcHl"
      }
    },
    {
      "cell_type": "code",
      "source": [
        "print(\"standard deviation :\\n\",df.std())"
      ],
      "metadata": {
        "colab": {
          "base_uri": "https://localhost:8080/"
        },
        "id": "gqOONNXgKEIt",
        "outputId": "11d96aaa-beaf-41fd-a661-bdd51bdf7e73"
      },
      "execution_count": null,
      "outputs": [
        {
          "output_type": "stream",
          "name": "stdout",
          "text": [
            "the spread measures:\n",
            " S1    18.854655\n",
            "S2    16.555230\n",
            "S3    30.093770\n",
            "dtype: float64\n"
          ]
        }
      ]
    },
    {
      "cell_type": "code",
      "source": [],
      "metadata": {
        "id": "FcKzTjE8PyiH"
      },
      "execution_count": null,
      "outputs": []
    },
    {
      "cell_type": "markdown",
      "source": [
        " #2.c. \n",
        " What can you say about S1, S2, S3?\n",
        "  \n",
        "In terms of Means, Variance, and Standard deviation Which one of the sensors is different from the others ? Is it possible to divide a categorical dataset using quartiles?"
      ],
      "metadata": {
        "id": "hx9E6NAqKi93"
      }
    },
    {
      "cell_type": "code",
      "source": [
        "# using quantile() function to\n",
        "# find the quantiles over the index axis\n",
        "df.quantile([.1, .25, .5, .75], axis = 0)"
      ],
      "metadata": {
        "colab": {
          "base_uri": "https://localhost:8080/",
          "height": 175
        },
        "id": "p95NHGBlNYaO",
        "outputId": "c4042419-5327-429e-85f3-fdebad2b133c"
      },
      "execution_count": null,
      "outputs": [
        {
          "output_type": "execute_result",
          "data": {
            "text/plain": [
              "          S1      S2      S3\n",
              "0.10  460.10  356.50  312.00\n",
              "0.25  466.75  371.75  331.75\n",
              "0.50  481.50  378.00  357.50\n",
              "0.75  496.25  385.00  373.25"
            ],
            "text/html": [
              "\n",
              "  <div id=\"df-e078182b-6ac4-4908-b3b1-b777d9297643\">\n",
              "    <div class=\"colab-df-container\">\n",
              "      <div>\n",
              "<style scoped>\n",
              "    .dataframe tbody tr th:only-of-type {\n",
              "        vertical-align: middle;\n",
              "    }\n",
              "\n",
              "    .dataframe tbody tr th {\n",
              "        vertical-align: top;\n",
              "    }\n",
              "\n",
              "    .dataframe thead th {\n",
              "        text-align: right;\n",
              "    }\n",
              "</style>\n",
              "<table border=\"1\" class=\"dataframe\">\n",
              "  <thead>\n",
              "    <tr style=\"text-align: right;\">\n",
              "      <th></th>\n",
              "      <th>S1</th>\n",
              "      <th>S2</th>\n",
              "      <th>S3</th>\n",
              "    </tr>\n",
              "  </thead>\n",
              "  <tbody>\n",
              "    <tr>\n",
              "      <th>0.10</th>\n",
              "      <td>460.10</td>\n",
              "      <td>356.50</td>\n",
              "      <td>312.00</td>\n",
              "    </tr>\n",
              "    <tr>\n",
              "      <th>0.25</th>\n",
              "      <td>466.75</td>\n",
              "      <td>371.75</td>\n",
              "      <td>331.75</td>\n",
              "    </tr>\n",
              "    <tr>\n",
              "      <th>0.50</th>\n",
              "      <td>481.50</td>\n",
              "      <td>378.00</td>\n",
              "      <td>357.50</td>\n",
              "    </tr>\n",
              "    <tr>\n",
              "      <th>0.75</th>\n",
              "      <td>496.25</td>\n",
              "      <td>385.00</td>\n",
              "      <td>373.25</td>\n",
              "    </tr>\n",
              "  </tbody>\n",
              "</table>\n",
              "</div>\n",
              "      <button class=\"colab-df-convert\" onclick=\"convertToInteractive('df-e078182b-6ac4-4908-b3b1-b777d9297643')\"\n",
              "              title=\"Convert this dataframe to an interactive table.\"\n",
              "              style=\"display:none;\">\n",
              "        \n",
              "  <svg xmlns=\"http://www.w3.org/2000/svg\" height=\"24px\"viewBox=\"0 0 24 24\"\n",
              "       width=\"24px\">\n",
              "    <path d=\"M0 0h24v24H0V0z\" fill=\"none\"/>\n",
              "    <path d=\"M18.56 5.44l.94 2.06.94-2.06 2.06-.94-2.06-.94-.94-2.06-.94 2.06-2.06.94zm-11 1L8.5 8.5l.94-2.06 2.06-.94-2.06-.94L8.5 2.5l-.94 2.06-2.06.94zm10 10l.94 2.06.94-2.06 2.06-.94-2.06-.94-.94-2.06-.94 2.06-2.06.94z\"/><path d=\"M17.41 7.96l-1.37-1.37c-.4-.4-.92-.59-1.43-.59-.52 0-1.04.2-1.43.59L10.3 9.45l-7.72 7.72c-.78.78-.78 2.05 0 2.83L4 21.41c.39.39.9.59 1.41.59.51 0 1.02-.2 1.41-.59l7.78-7.78 2.81-2.81c.8-.78.8-2.07 0-2.86zM5.41 20L4 18.59l7.72-7.72 1.47 1.35L5.41 20z\"/>\n",
              "  </svg>\n",
              "      </button>\n",
              "      \n",
              "  <style>\n",
              "    .colab-df-container {\n",
              "      display:flex;\n",
              "      flex-wrap:wrap;\n",
              "      gap: 12px;\n",
              "    }\n",
              "\n",
              "    .colab-df-convert {\n",
              "      background-color: #E8F0FE;\n",
              "      border: none;\n",
              "      border-radius: 50%;\n",
              "      cursor: pointer;\n",
              "      display: none;\n",
              "      fill: #1967D2;\n",
              "      height: 32px;\n",
              "      padding: 0 0 0 0;\n",
              "      width: 32px;\n",
              "    }\n",
              "\n",
              "    .colab-df-convert:hover {\n",
              "      background-color: #E2EBFA;\n",
              "      box-shadow: 0px 1px 2px rgba(60, 64, 67, 0.3), 0px 1px 3px 1px rgba(60, 64, 67, 0.15);\n",
              "      fill: #174EA6;\n",
              "    }\n",
              "\n",
              "    [theme=dark] .colab-df-convert {\n",
              "      background-color: #3B4455;\n",
              "      fill: #D2E3FC;\n",
              "    }\n",
              "\n",
              "    [theme=dark] .colab-df-convert:hover {\n",
              "      background-color: #434B5C;\n",
              "      box-shadow: 0px 1px 3px 1px rgba(0, 0, 0, 0.15);\n",
              "      filter: drop-shadow(0px 1px 2px rgba(0, 0, 0, 0.3));\n",
              "      fill: #FFFFFF;\n",
              "    }\n",
              "  </style>\n",
              "\n",
              "      <script>\n",
              "        const buttonEl =\n",
              "          document.querySelector('#df-e078182b-6ac4-4908-b3b1-b777d9297643 button.colab-df-convert');\n",
              "        buttonEl.style.display =\n",
              "          google.colab.kernel.accessAllowed ? 'block' : 'none';\n",
              "\n",
              "        async function convertToInteractive(key) {\n",
              "          const element = document.querySelector('#df-e078182b-6ac4-4908-b3b1-b777d9297643');\n",
              "          const dataTable =\n",
              "            await google.colab.kernel.invokeFunction('convertToInteractive',\n",
              "                                                     [key], {});\n",
              "          if (!dataTable) return;\n",
              "\n",
              "          const docLinkHtml = 'Like what you see? Visit the ' +\n",
              "            '<a target=\"_blank\" href=https://colab.research.google.com/notebooks/data_table.ipynb>data table notebook</a>'\n",
              "            + ' to learn more about interactive tables.';\n",
              "          element.innerHTML = '';\n",
              "          dataTable['output_type'] = 'display_data';\n",
              "          await google.colab.output.renderOutput(dataTable, element);\n",
              "          const docLink = document.createElement('div');\n",
              "          docLink.innerHTML = docLinkHtml;\n",
              "          element.appendChild(docLink);\n",
              "        }\n",
              "      </script>\n",
              "    </div>\n",
              "  </div>\n",
              "  "
            ]
          },
          "metadata": {},
          "execution_count": 10
        }
      ]
    },
    {
      "cell_type": "code",
      "source": [
        "# find the product over the index axis\n",
        "df.quantile(.2, axis = 0)"
      ],
      "metadata": {
        "colab": {
          "base_uri": "https://localhost:8080/"
        },
        "id": "2myvzFTwNft-",
        "outputId": "e0877d79-1aee-4983-a816-56528892d11c"
      },
      "execution_count": null,
      "outputs": [
        {
          "output_type": "execute_result",
          "data": {
            "text/plain": [
              "S1    465.0\n",
              "S2    370.0\n",
              "S3    327.0\n",
              "Name: 0.2, dtype: float64"
            ]
          },
          "metadata": {},
          "execution_count": 11
        }
      ]
    },
    {
      "cell_type": "markdown",
      "source": [
        "#3.\n",
        "Suppose we have list of set of colors Colors = [Red, Green, Blue, Blue, Green, Red, Yellow, Orange, Purple, Blue, Green, Red, Blue, Yellow, Orange, Green, Blue, Red, Yellow, Green]\n",
        "\n",
        "How can we make Quartiles in such a case?"
      ],
      "metadata": {
        "id": "3-TmT1R2NpLM"
      }
    },
    {
      "cell_type": "code",
      "source": [
        "\n",
        "Colors = ['Red', 'Green', 'Blue', 'Blue', 'Green', 'Red', 'Yellow', 'Orange',\n",
        "          'Purple', 'Blue', 'Green', 'Red', 'Blue', 'Yellow', 'Orange',\n",
        "          'Green', 'Blue', 'Red', 'Yellow', 'Green']\n",
        "new_color_list =[]"
      ],
      "metadata": {
        "id": "YtgKgCCKONBf"
      },
      "execution_count": null,
      "outputs": []
    },
    {
      "cell_type": "code",
      "source": [
        "for i in Colors:\n",
        "  if i == 'Red':\n",
        "    new_color_list.append(0)\n",
        "  elif i == 'Green':\n",
        "    new_color_list.append(1)\n",
        "  elif i == 'Blue':\n",
        "    new_color_list.append(2)\n",
        "  elif i == 'Yellow':\n",
        "    new_color_list.append(3)\n",
        "  elif i == 'Orange':\n",
        "    new_color_list.append(4)\n",
        "  elif i == 'Purple':\n",
        "    new_color_list.append(5)"
      ],
      "metadata": {
        "id": "nXsvE3YtOQjP"
      },
      "execution_count": null,
      "outputs": []
    },
    {
      "cell_type": "code",
      "source": [
        "new_color_list"
      ],
      "metadata": {
        "colab": {
          "base_uri": "https://localhost:8080/"
        },
        "id": "6b9u_0C_QEan",
        "outputId": "43612a23-36ee-44c8-97f0-11de55cc6069"
      },
      "execution_count": null,
      "outputs": [
        {
          "output_type": "execute_result",
          "data": {
            "text/plain": [
              "[0, 1, 2, 2, 1, 0, 3, 4, 5, 2, 1, 0, 2, 3, 4, 1, 2, 0, 3, 1]"
            ]
          },
          "metadata": {},
          "execution_count": 17
        }
      ]
    },
    {
      "cell_type": "code",
      "source": [
        "new_color_array = np.array(new_color_list)"
      ],
      "metadata": {
        "id": "2jz3i-iiQIud"
      },
      "execution_count": null,
      "outputs": []
    },
    {
      "cell_type": "code",
      "source": [
        "print(np.mean(new_color_array))"
      ],
      "metadata": {
        "colab": {
          "base_uri": "https://localhost:8080/"
        },
        "id": "ZhLGNScSQafI",
        "outputId": "1303142c-da38-4e0b-bce5-47ba19d8d23a"
      },
      "execution_count": null,
      "outputs": [
        {
          "output_type": "stream",
          "name": "stdout",
          "text": [
            "1.85\n"
          ]
        }
      ]
    },
    {
      "cell_type": "code",
      "source": [
        "print(np.std(new_color_array))"
      ],
      "metadata": {
        "colab": {
          "base_uri": "https://localhost:8080/"
        },
        "id": "GN4W9sI4QhmF",
        "outputId": "e4ec652d-b512-4319-ae2e-ac90742e82a2"
      },
      "execution_count": null,
      "outputs": [
        {
          "output_type": "stream",
          "name": "stdout",
          "text": [
            "1.4239030865898141\n"
          ]
        }
      ]
    },
    {
      "cell_type": "code",
      "source": [
        "Map_color_dic = {0:'Red',1:'Green',2:'Blue',3:'Yellow',4:'Orange',5:'Purple'}\n",
        "print(Map_color_dic[0])"
      ],
      "metadata": {
        "colab": {
          "base_uri": "https://localhost:8080/"
        },
        "id": "PFIh0BEFRN-P",
        "outputId": "50aec0ce-4694-48fd-8b12-09fa8da56585"
      },
      "execution_count": null,
      "outputs": [
        {
          "output_type": "stream",
          "name": "stdout",
          "text": [
            "Red\n"
          ]
        }
      ]
    },
    {
      "cell_type": "code",
      "source": [
        "print(\"Q0 quantile of arr : \", np.quantile(new_color_array, .0),\"means \",Map_color_dic[int(np.quantile(new_color_array, .0))])\n",
        "print(\"Q1 quantile of arr : \", np.quantile(new_color_array, .25),\"means \",Map_color_dic[int(np.quantile(new_color_array, .25))])\n",
        "print(\"Q2 quantile of arr : \", np.quantile(new_color_array, .50),\"means \",Map_color_dic[int(np.quantile(new_color_array, .50))])\n",
        "print(\"Q3 quantile of arr : \", np.quantile(new_color_array, .75),\"means \",Map_color_dic[int(np.quantile(new_color_array, .75))])\n",
        "print(\"100th quantile of arr : \", np.quantile(new_color_array, .1),\"means \",Map_color_dic[int(np.quantile(new_color_array, .1))])"
      ],
      "metadata": {
        "colab": {
          "base_uri": "https://localhost:8080/"
        },
        "id": "DjWHRsPWQlO9",
        "outputId": "c46b3a4b-8b0c-493d-c112-03247979ccdf"
      },
      "execution_count": null,
      "outputs": [
        {
          "output_type": "stream",
          "name": "stdout",
          "text": [
            "Q0 quantile of arr :  0.0 means  Red\n",
            "Q1 quantile of arr :  1.0 means  Green\n",
            "Q2 quantile of arr :  2.0 means  Blue\n",
            "Q3 quantile of arr :  3.0 means  Yellow\n",
            "100th quantile of arr :  0.0 means  Red\n"
          ]
        }
      ]
    }
  ]
}