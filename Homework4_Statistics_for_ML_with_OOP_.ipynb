{
  "nbformat": 4,
  "nbformat_minor": 0,
  "metadata": {
    "colab": {
      "provenance": [],
      "authorship_tag": "ABX9TyMRJwNgAqtGTNE5LaYoQALY",
      "include_colab_link": true
    },
    "kernelspec": {
      "name": "python3",
      "display_name": "Python 3"
    },
    "language_info": {
      "name": "python"
    }
  },
  "cells": [
    {
      "cell_type": "markdown",
      "metadata": {
        "id": "view-in-github",
        "colab_type": "text"
      },
      "source": [
        "<a href=\"https://colab.research.google.com/github/afshari-maryam/MachineLearning-Math/blob/main/Homework4_Statistics_for_ML_with_OOP_.ipynb\" target=\"_parent\"><img src=\"https://colab.research.google.com/assets/colab-badge.svg\" alt=\"Open In Colab\"/></a>"
      ]
    },
    {
      "cell_type": "markdown",
      "source": [
        "_______________________________ Z-Test____________________________"
      ],
      "metadata": {
        "id": "u1Eb1tMYJpU-"
      }
    },
    {
      "cell_type": "code",
      "source": [
        "from typing import List\n",
        "from math import sqrt\n",
        "from scipy.stats import norm\n",
        "\n",
        "class Z_test:\n",
        "    \n",
        "    def __init__(self, data: List[float], mu: float, sigma: float, alpha: float):\n",
        "        self.data = data\n",
        "        self.mu = mu\n",
        "        self.sigma = sigma\n",
        "        self.alpha = alpha\n",
        "        \n",
        "    def calculate_z_score(self) -> float:\n",
        "        x_bar = sum(self.data) / len(self.data)\n",
        "        z = (x_bar - self.mu) / (self.sigma / sqrt(len(self.data)))\n",
        "        return z\n",
        "    \n",
        "    def test_hypotheses(self) -> str:\n",
        "        z = self.calculate_z_score()\n",
        "        p_value = norm.sf(abs(z)) * 2\n",
        "        if p_value < self.alpha:\n",
        "            return f\"The p-value ({p_value:.3f}) is less than the significance level ({self.alpha}), reject the null hypothesis\"\n",
        "        else:\n",
        "            return f\"The p-value ({p_value:.3f}) is greater than the significance level ({self.alpha}), fail to reject the null hypothesis\"\n"
      ],
      "metadata": {
        "id": "dSPA0LFZLUxW"
      },
      "execution_count": 5,
      "outputs": []
    },
    {
      "cell_type": "code",
      "source": [
        "import statistics\n",
        "sample = [4.186, 4.439, 4.781, 4.388, 4.947, 4.853, 4.889, 4.682, 4.428, 4.533, 4.557, 4.761, 4.491, 4.334, 4.83 , 4.268, 4.68 , 4.437, 5.382, 5.111, 5.096, 5.232, 5.033, 5.57 , 4.474, 4.789, 4.725, 4.84 , 4.817, 4.438, 4.754, 4.966, 4.285, 4.482, 4.396, 4.418, 4.514, 5.383, 5.264, 4.309, 5.058, 4.392, 4.788, 4.934, 4.967, 4.554, 4.42 , 5. , 5.126, 5.082, 4.944, 4.658]\n",
        "\n",
        "mu = statistics.mean(sample) #4.5\n",
        "sigma = 0.6\n",
        "alpha = 0.05\n",
        "\n",
        "test = Z_test(sample, mu, sigma, alpha)\n",
        "\n",
        "print(f\"Null hypothesis: the bandwidth of the new model is equal to {mu} GHz\")\n",
        "print(f\"Alternative hypothesis: the bandwidth of the new model is different from {mu} GHz\")\n",
        "print(f\"Significance level: {alpha}\")\n",
        "\n",
        "result = test.test_hypotheses()\n",
        "print(result)"
      ],
      "metadata": {
        "colab": {
          "base_uri": "https://localhost:8080/"
        },
        "id": "m0MPrVgnJ12b",
        "outputId": "ba7531fd-ece9-4ba2-fdce-e16e3d399062"
      },
      "execution_count": 6,
      "outputs": [
        {
          "output_type": "stream",
          "name": "stdout",
          "text": [
            "Null hypothesis: the bandwidth of the new model is equal to 4.743942307692308 GHz\n",
            "Alternative hypothesis: the bandwidth of the new model is different from 4.743942307692308 GHz\n",
            "Significance level: 0.05\n",
            "The p-value (1.000) is greater than the significance level (0.05), fail to reject the null hypothesis\n"
          ]
        }
      ]
    },
    {
      "cell_type": "markdown",
      "source": [
        "_________________________________________________ T_Test _______________________________"
      ],
      "metadata": {
        "id": "tM90UnyZLi2E"
      }
    },
    {
      "cell_type": "code",
      "source": [
        "import math\n",
        "from scipy.stats import t\n",
        "import statistics\n",
        "class T_test:\n",
        "    def __init__(self, alpha):\n",
        "        self.alpha = alpha\n",
        "    \n",
        "    def one_sample(self, sample, mu):\n",
        "        n = len(sample)\n",
        "        df = n - 1\n",
        "        sample_mean = sum(sample) / n\n",
        "        sample_std = math.sqrt(sum([(x - sample_mean) ** 2 for x in sample]) / df)\n",
        "        t_stat = (sample_mean - mu) / (sample_std / math.sqrt(n))\n",
        "        p_value = t.sf(abs(t_stat), df) * 2\n",
        "        return t_stat, p_value\n",
        "    \n",
        "    @staticmethod\n",
        "    def two_sample_ttest(sample1, sample2, alpha=0.05, tails=2):\n",
        "        n1 = len(sample1)\n",
        "        n2 = len(sample2)\n",
        "        df = n1 + n2 - 2\n",
        "        d_bar = np.mean(sample1) - np.mean(sample2)\n",
        "        Sd = np.sqrt(((n1 - 1) * np.var(sample1, ddof=1) + (n2 - 1) * np.var(sample2, ddof=1)) / df)\n",
        "        SE = Sd * np.sqrt(1 / n1 + 1 / n2)\n",
        "        T = d_bar / SE\n",
        "        p = tails * (1 - t.cdf(abs(T), df))\n",
        "        t_critical = abs(t.ppf(alpha / tails, df))\n",
        "        return {'T': T, 'df': df, 'p-value': p, 't_critical': t_critical}\n",
        "\n",
        "    def two_sample(self, sample1, sample2, alpha=0.05, tails=2):\n",
        "        n1, n2 = len(sample1), len(sample2)\n",
        "        df = n1 + n2 - 2\n",
        "        s1, s2 = math.sqrt(sum([(x - statistics.mean(sample1)) ** 2 for x in sample1]) / (n1 - 1)), math.sqrt(sum([(x - statistics.mean(sample2)) ** 2 for x in sample2]) / (n2 - 1))\n",
        "        t_stat = (statistics.mean(sample1) - statistics.mean(sample2)) / math.sqrt((s1 ** 2 / n1) + (s2 ** 2 / n2))\n",
        "        p_value = t.sf(abs(t_stat), df) * 2\n",
        "        return t_stat, p_value\n",
        "    \n",
        "    def paired(self, sample1, sample2):\n",
        "        n = len(sample1)\n",
        "        df = n - 1\n",
        "        d_bar = statistics.mean([x - y for x, y in zip(sample1, sample2)])\n",
        "        sd = math.sqrt(sum([(x - y - d_bar) ** 2 for x, y in zip(sample1, sample2)]) / df)\n",
        "        t_stat = d_bar / (sd / math.sqrt(n))\n",
        "        p_value = t.sf(abs(t_stat), df) * 2\n",
        "        return t_stat, p_value\n",
        "    \n",
        "    def paired_ttest(self, before, after, alpha=0.05):\n",
        "        db = np.array(after) - np.array(before)\n",
        "        n = len(db)\n",
        "        mean_db = np.mean(db)\n",
        "        sd_db = np.std(db, ddof=1)\n",
        "        se_db = sd_db / np.sqrt(n)\n",
        "        t_statistic = mean_db / se_db\n",
        "        df = n - 1\n",
        "        critical_value = t.ppf(1 - alpha/2, df)\n",
        "        p_value = 2 * (1 - t.cdf(abs(t_statistic), df))\n",
        "        if abs(t_statistic) > critical_value:\n",
        "            print(\"Reject null hypothesis.\")\n",
        "        else:\n",
        "            print(\"Fail to reject null hypothesis.\")\n",
        "        print(\"t statistic:\", t_statistic)\n",
        "        print(\"p value:\", p_value)\n",
        "   \n",
        "    def test_hypotheses(self,compute_p_value) -> str:\n",
        "        #z = self.calculate_z_score()\n",
        "        #p_value = norm.sf(abs(z)) * 2\n",
        "        alpha = 0.05\n",
        "        if compute_p_value < alpha:\n",
        "            return f\"The p-value ({compute_p_value}) is less than the significance level ({self.alpha}), reject the null hypothesis\"\n",
        "        else:\n",
        "            return f\"The p-value ({compute_p_value:.3f}) is greater than the significance level ({self.alpha}), fail to reject the null hypothesis\"\n"
      ],
      "metadata": {
        "id": "tRURYdr_MNiH"
      },
      "execution_count": 16,
      "outputs": []
    },
    {
      "cell_type": "markdown",
      "source": [
        "__________ One-Sample T-Test____________"
      ],
      "metadata": {
        "id": "sq3kuJdDjzwB"
      }
    },
    {
      "cell_type": "code",
      "source": [
        "sample = [14.8, 15.2, 15.1, 15.3, 15.0, 14.9, 15.2, 14.8, 15.1, 15.0, 14.9, 14.8, 15.2, 14.9, 15.0, 14.9, 15.1, 15.3, 15.0, 15.1, 14.8, 15.0, 15.2, 15.1, 15.3, 15.1, 15.0, 14.8, 15.2, 15.0]\n",
        "mu = 15\n",
        "alpha = 0.05\n",
        "t_test = T_test(alpha)\n",
        "t_stat, p_value = t_test.one_sample(sample, mu)\n",
        "print(f\"t-statistic = {t_stat:.3f}\")\n",
        "print(f\"p-value = {p_value:.3f}\")\n",
        "if p_value < alpha:\n",
        "    print\n",
        "result = t_test.test_hypotheses(p_value)\n",
        "print(result)\n",
        "# the null hypothesis is that the mean weight of the cans produced using the new process is equal to the target weight of 15 grams, and \n",
        "#the alternative hypothesis is that it is significantly different.\n"
      ],
      "metadata": {
        "colab": {
          "base_uri": "https://localhost:8080/"
        },
        "id": "omRodUI6MQEm",
        "outputId": "5a468347-e77d-4362-e84e-31dd8885b3dd"
      },
      "execution_count": 17,
      "outputs": [
        {
          "output_type": "stream",
          "name": "stdout",
          "text": [
            "t-statistic = 1.266\n",
            "p-value = 0.216\n",
            "The p-value (0.216) is greater than the significance level (0.05), fail to reject the null hypothesis\n"
          ]
        }
      ]
    },
    {
      "cell_type": "code",
      "source": [
        "import numpy as np\n",
        "from scipy.stats import ttest_1samp\n",
        "\n",
        "sample = [14.8, 15.2, 15.1, 15.3, 15.0, 14.9, 15.2, 14.8, 15.1, 15.0, 14.9, 14.8, 15.2, 14.9, 15.0, 14.9, 15.1, 15.3, 15.0, 15.1, 14.8, 15.0, 15.2, 15.1, 15.3, 15.1, 15.0, 14.8, 15.2, 15.0]\n",
        "\n",
        "# Population mean\n",
        "mu = 15\n",
        "\n",
        "# Sample mean\n",
        "x_bar = np.mean(sample)\n",
        "\n",
        "# Sample standard deviation\n",
        "s = np.std(sample, ddof=1)\n",
        "\n",
        "# Sample size\n",
        "n = len(sample)\n",
        "\n",
        "# T-test statistic and p-value\n",
        "t_stat, p_value = ttest_1samp(sample, mu)\n",
        "\n",
        "print(\"T-test statistic:\", t_stat)\n",
        "print(\"p-value:\", p_value)\n"
      ],
      "metadata": {
        "colab": {
          "base_uri": "https://localhost:8080/"
        },
        "id": "8GXeBYZYNN7c",
        "outputId": "58f420bd-7e64-4f42-dd45-076439970fc3"
      },
      "execution_count": 9,
      "outputs": [
        {
          "output_type": "stream",
          "name": "stdout",
          "text": [
            "T-test statistic: 1.266102316314493\n",
            "p-value: 0.21555298152540098\n"
          ]
        }
      ]
    },
    {
      "cell_type": "markdown",
      "source": [
        "________________________ Two Sample T-test_____________"
      ],
      "metadata": {
        "id": "f8bS02UdPdwG"
      }
    },
    {
      "cell_type": "code",
      "source": [
        "new_flavor = [8, 7, 9, 6, 7, 8, 9, 7, 8, 7, 6, 8, 7, 9, 8, 7, 6, 9, 8, 7]\n",
        "best_selling_flavor = [6, 7, 8, 6, 7, 6, 7, 6, 8, 7, 6, 7, 6, 8, 7, 6, 7, 8, 6, 7]\n",
        "alpha = 0.05\n",
        "t_test = T_test(alpha)\n",
        "result = t_test.two_sample_ttest(new_flavor, best_selling_flavor, alpha=0.05, tails=2)\n",
        "print(result)\n",
        "alpha = 0.05\n",
        "t_test = T_test(alpha)\n",
        "t_stat, p_value = t_test.two_sample(new_flavor, best_selling_flavor, alpha=0.05, tails=2)\n",
        "print(f\"t-statistic = {t_stat:.3f}\")\n",
        "print(f\"p-value = {p_value:.3f}\")\n",
        "if p_value < alpha:\n",
        "    print\n",
        "result = t_test.test_hypotheses(p_value)\n",
        "print(result)\n",
        "#The null hypothesis for the two-sample T-test is that the means of the two groups are equal.\n",
        "# The alternative hypothesis is that the means are not equal."
      ],
      "metadata": {
        "colab": {
          "base_uri": "https://localhost:8080/"
        },
        "id": "I7pAxAOcPezL",
        "outputId": "38c86cc7-2230-4305-88f5-5cb5dbe123d1"
      },
      "execution_count": 23,
      "outputs": [
        {
          "output_type": "stream",
          "name": "stdout",
          "text": [
            "{'T': 2.6626213096882494, 'df': 38, 'p-value': 0.011305183377361638, 't_critical': 2.0243941645751367}\n",
            "t-statistic = 2.663\n",
            "p-value = 0.011\n",
            "The p-value (0.011) is less than the significance level (0.05), reject the null hypothesis\n"
          ]
        }
      ]
    },
    {
      "cell_type": "markdown",
      "source": [
        "___________________Paired T-test_______________________"
      ],
      "metadata": {
        "id": "ID_ZUM76PeTs"
      }
    },
    {
      "cell_type": "code",
      "source": [
        "alpha = 0.05\n",
        "t_test = T_test(alpha)\n",
        "\n",
        "before = [15, 18, 12, 10, 17, 16, 12, 14, 19, 18, 11, 13, 16, 17, 19, 14, 16, 13, 15, 12]\n",
        "after = [18, 20, 15, 13, 19, 18, 14, 16, 21, 20, 14, 16, 19, 20, 22, 16, 18, 15, 17, 14]\n",
        "\n",
        "t_test.paired_ttest(before, after, alpha=0.05)\n",
        "\n",
        "alpha = 0.05\n",
        "t_test = T_test(alpha)\n",
        "t_stat, p_value = t_test.paired(before, after)\n",
        "print(f\"t-statistic = {t_stat}\")\n",
        "print(f\"p-value = {p_value:.3f}\")\n",
        "if p_value < alpha:\n",
        "    print\n",
        "result = t_test.test_hypotheses(p_value)\n",
        "print(result)\n",
        "\n",
        "#Null hypothesis: There is no significant difference in the productivity scores of the employees before and after the training program.\n",
        "\n",
        "#Alternative hypothesis: The productivity scores of the employees after the training program are significantly different from the scores before the training program."
      ],
      "metadata": {
        "colab": {
          "base_uri": "https://localhost:8080/"
        },
        "id": "APwOvH26Ry03",
        "outputId": "55e46cf8-4a7e-470d-b84a-8fc8d5b7e537"
      },
      "execution_count": 17,
      "outputs": [
        {
          "output_type": "stream",
          "name": "stdout",
          "text": [
            "Reject null hypothesis.\n",
            "t statistic: 21.354156504062622\n",
            "p value: 9.769962616701378e-15\n",
            "t-statistic = -21.354156504062615\n",
            "p-value = 0.000\n",
            "The p-value (9.64779113579256e-15) is less than the significance level (0.05), reject the null hypothesis\n"
          ]
        }
      ]
    },
    {
      "cell_type": "markdown",
      "source": [
        "---------------------------------------ANOVA TEST-------------------------------------"
      ],
      "metadata": {
        "id": "H2HYYnfWTCbk"
      }
    },
    {
      "cell_type": "code",
      "source": [
        "import numpy as np\n",
        "from scipy.stats import f\n",
        "\n",
        "class ANOVA:\n",
        "    def __init__(self, alpha=0.05):\n",
        "        self.alpha = alpha\n",
        "    \n",
        "    def one_way_anova(self, *args):\n",
        "        n_groups = len(args)\n",
        "        n_total = sum(len(x) for x in args)\n",
        "        grand_mean = np.mean(np.concatenate(args))\n",
        "        ss_between = sum(len(x)*(np.mean(x)-grand_mean)**2 for x in args)\n",
        "        ss_within = sum((len(x)-1)*np.var(x) for x in args)\n",
        "        df_between = n_groups - 1\n",
        "        df_within = n_total - n_groups\n",
        "        ms_between = ss_between / df_between\n",
        "        ms_within = ss_within / df_within\n",
        "        f_stat = ms_between / ms_within\n",
        "        p_value = f.sf(f_stat, df_between, df_within)\n",
        "        return f_stat, p_value\n",
        "    \n",
        "    def two_way_anova(self, data):\n",
        "        n1, n2 = data.shape[:2]\n",
        "        n_total = n1 * n2\n",
        "        grand_mean = np.mean(data)\n",
        "        ss_total = np.sum((data - grand_mean)**2)\n",
        "        ss_between1 = np.sum((np.mean(data, axis=1) - grand_mean)**2) * n2\n",
        "        ss_between2 = np.sum((np.mean(data, axis=0) - grand_mean)**2) * n1\n",
        "        ss_within = ss_total - ss_between1 - ss_between2\n",
        "        df_between1 = n1 - 1\n",
        "        df_between2 = n2 - 1\n",
        "        df_within = n_total - n1 - n2 + 1\n",
        "        ms_between1 = ss_between1 / df_between1\n",
        "        ms_between2 = ss_between2 / df_between2\n",
        "        ms_within = ss_within / df_within\n",
        "        f_stat1 = ms_between1 / ms_within\n",
        "        f_stat2 = ms_between2 / ms_within\n",
        "        p_value1 = f.sf(f_stat1, df_between1, df_within)\n",
        "        p_value2 = f.sf(f_stat2, df_between2, df_within)\n",
        "        return f_stat1, f_stat2, p_value1, p_value2\n",
        "    \n",
        "    def test_hypotheses(self,compute_p_value) -> str:\n",
        "        alpha = 0.05\n",
        "        if compute_p_value < alpha:\n",
        "            return f\"The p-value ({compute_p_value}) is less than the significance level ({self.alpha}), reject the null hypothesis\"\n",
        "        else:\n",
        "            return f\"The p-value ({compute_p_value:.3f}) is greater than the significance level ({self.alpha}), fail to reject the null hypothesis\"\n"
      ],
      "metadata": {
        "id": "JqmOFCI2UYiU"
      },
      "execution_count": 1,
      "outputs": []
    },
    {
      "cell_type": "code",
      "source": [
        "dept_a = [55, 60, 50, 58, 63, 62, 57, 56, 61, 59]\n",
        "dept_b = [50, 52, 48, 49, 55, 53, 51, 54, 47, 50]\n",
        "dept_c = [45, 43, 48, 50, 42, 47, 49, 46, 44, 48]\n",
        "\n",
        "anova = ANOVA()\n",
        "f_stat, p_value = anova.one_way_anova(dept_a, dept_b, dept_c)\n",
        "\n",
        "print('F-statistic:', f_stat)\n",
        "print('p-value:', p_value)\n",
        "anova.test_hypotheses(p_value)\n",
        "\n",
        "#Null hypothesis: There is no significant difference in salaries between the three departments.\n",
        "#Alternative hypothesis: There is a significant difference in salaries between the three departments."
      ],
      "metadata": {
        "colab": {
          "base_uri": "https://localhost:8080/",
          "height": 70
        },
        "id": "zJCXEPtFUqyn",
        "outputId": "3f330e20-9374-42ab-d04c-2010e0c2350e"
      },
      "execution_count": 34,
      "outputs": [
        {
          "output_type": "stream",
          "name": "stdout",
          "text": [
            "F-statistic: 41.868686868686865\n",
            "p-value: 5.3142117186426965e-09\n"
          ]
        },
        {
          "output_type": "execute_result",
          "data": {
            "text/plain": [
              "'The p-value (5.3142117186426965e-09) is less than the significance level (0.05), reject the null hypothesis'"
            ],
            "application/vnd.google.colaboratory.intrinsic+json": {
              "type": "string"
            }
          },
          "metadata": {},
          "execution_count": 34
        }
      ]
    },
    {
      "cell_type": "markdown",
      "source": [
        "__________________ANOVA one_way question_____________________"
      ],
      "metadata": {
        "id": "nTO3EATfkp0-"
      }
    },
    {
      "cell_type": "code",
      "source": [
        "#ANOVA one_way question-------------------------------------------------------\n",
        "data = np.array([[[55, 60, 50, 58, 63], [62, 57, 56, 61, 59]],\n",
        "                 [[50, 52, 48, 49, 55], [53, 51, 54, 47, 50]],\n",
        "                 [[45, 43, 48, 50, 42], [47, 49, 46, 44, 48]]])\n",
        "anova = ANOVA()\n",
        "f1, f2, p1, p2 = anova.two_way_anova(data)\n",
        "anova.test_hypotheses(p1)\n",
        "#Null hypothesis: There is no significant difference in salaries between the three departments, and there is no significant effect of gender on salaries.\n",
        "#Alternative hypothesis: There is a significant difference in salaries between the three departments, and/or there is a significant effect of gender on salaries."
      ],
      "metadata": {
        "colab": {
          "base_uri": "https://localhost:8080/",
          "height": 36
        },
        "id": "RJ5RdtjfWRPN",
        "outputId": "c68ab876-c2ae-447d-9457-fc275d8a75d9"
      },
      "execution_count": 36,
      "outputs": [
        {
          "output_type": "execute_result",
          "data": {
            "text/plain": [
              "'The p-value (0.097) is greater than the significance level (0.05), fail to reject the null hypothesis'"
            ],
            "application/vnd.google.colaboratory.intrinsic+json": {
              "type": "string"
            }
          },
          "metadata": {},
          "execution_count": 36
        }
      ]
    },
    {
      "cell_type": "markdown",
      "source": [
        "______________ANOVA Two-way__________________"
      ],
      "metadata": {
        "id": "-WB35kq9kukW"
      }
    },
    {
      "cell_type": "code",
      "source": [
        "#ANOVA Two-way question ---------------------------------------------------------\n",
        "import numpy as np\n",
        "from scipy.stats import f\n",
        "\n",
        "# Salary data\n",
        "a_male = np.array([55, 60, 50, 58, 63])\n",
        "a_female = np.array([62, 57, 56, 61, 59])\n",
        "b_male = np.array([50, 52, 48, 49, 55])\n",
        "b_female = np.array([53, 51, 54, 47, 50])\n",
        "c_male = np.array([45, 43, 48, 50, 42])\n",
        "c_female = np.array([47, 49, 46, 44, 48])\n",
        "data = np.array([np.concatenate([a_male, a_female]),\n",
        "                 np.concatenate([b_male, b_female]),\n",
        "                 np.concatenate([c_male, c_female])])\n",
        "\n",
        "# Two-way ANOVA\n",
        "anova = ANOVA()\n",
        "f_stat1, f_stat2, p_value1, p_value2 = anova.two_way_anova(data)\n",
        "\n",
        "# Test hypotheses\n",
        "print(anova.test_hypotheses(p_value1))\n",
        "print(anova.test_hypotheses(p_value2))\n",
        "\n",
        "\n",
        "#Null hypothesis: There is no significant difference in salaries between the departments or gender\n",
        "# has no effect on salaries or there is no interaction effect  between department and gender on salaries.\n",
        "#Alternative hypothesis: There is a significant difference in salaries between at least two departments or gender\n",
        "# has an effect on salaries or there is an interaction effect between department and gender on salaries."
      ],
      "metadata": {
        "colab": {
          "base_uri": "https://localhost:8080/"
        },
        "id": "lcFr6hflfywH",
        "outputId": "0387efe8-dcab-4aba-b648-ea5a2b945124"
      },
      "execution_count": 2,
      "outputs": [
        {
          "output_type": "stream",
          "name": "stdout",
          "text": [
            "The p-value (7.713531233526934e-07) is less than the significance level (0.05), reject the null hypothesis\n",
            "The p-value (0.696) is greater than the significance level (0.05), fail to reject the null hypothesis\n"
          ]
        }
      ]
    },
    {
      "cell_type": "markdown",
      "source": [
        "________Chi-Square____________________________________"
      ],
      "metadata": {
        "id": "VWRAZFEOeYCG"
      }
    },
    {
      "cell_type": "code",
      "source": [
        "# Chi-Square class\n",
        "class ChiSquare:\n",
        "    def __init__(self, observed_freq, expected_freq):\n",
        "        self.observed_freq = observed_freq\n",
        "        self.expected_freq = expected_freq\n",
        "        \n",
        "    def calculate_chi_square(self):\n",
        "        chi_square = sum([(o - e)**2 / e for o, e in zip(self.observed_freq, self.expected_freq)])\n",
        "        return chi_square\n",
        "\n",
        "    def test_goodness_of_fit(self, alpha, df):\n",
        "        from scipy.stats import chi2\n",
        "        chi_square = self.calculate_chi_square()\n",
        "        critical_value = chi2.ppf(1 - alpha, df)\n",
        "        p_value = 1 - chi2.cdf(chi_square, df)\n",
        "        \n",
        "        if chi_square > critical_value:\n",
        "            print(\"Reject null hypothesis. The observed frequencies are not consistent with the expected frequencies.\")\n",
        "        else:\n",
        "            print(\"Fail to reject null hypothesis. The observed frequencies are consistent with the expected frequencies.\")\n",
        "        \n",
        "        print(\"Chi-Square statistic:\", chi_square)\n",
        "        print(\"Critical value:\", critical_value)\n",
        "        print(\"P-value:\", p_value)"
      ],
      "metadata": {
        "id": "eOBxu6FJeYLl"
      },
      "execution_count": 3,
      "outputs": []
    },
    {
      "cell_type": "code",
      "source": [
        "observed_freq = [18, 20, 16, 22, 14, 10]\n",
        "expected_freq = [16.67] * 6\n",
        "test = ChiSquare(observed_freq, expected_freq)\n",
        "test.test_goodness_of_fit(alpha=0.05, df=5)\n",
        "print (\" Fail to reject the null hypothesis and conclude that the observed frequencies are consistent with the expected frequencies under the null hypothesis of a fair die.\")\n",
        "# fail to reject the null hypothesis and conclude that \n",
        "#the observed frequencies are consistent with the expected frequencies under the null hypothesis of a fair die."
      ],
      "metadata": {
        "colab": {
          "base_uri": "https://localhost:8080/"
        },
        "id": "q3tYbJJUg7HA",
        "outputId": "7a350319-e66e-4868-fbd9-a5b588887174"
      },
      "execution_count": 6,
      "outputs": [
        {
          "output_type": "stream",
          "name": "stdout",
          "text": [
            "Fail to reject null hypothesis. The observed frequencies are consistent with the expected frequencies.\n",
            "Chi-Square statistic: 5.598884223155368\n",
            "Critical value: 11.070497693516351\n",
            "P-value: 0.34722465415765136\n",
            " Fail to reject the null hypothesis and conclude that the observed frequencies are consistent with the expected frequencies under the null hypothesis of a fair die.\n"
          ]
        }
      ]
    },
    {
      "cell_type": "markdown",
      "source": [
        "______________AB_Testing______________________________"
      ],
      "metadata": {
        "id": "mZVHKxGok-dG"
      }
    },
    {
      "cell_type": "code",
      "source": [
        "from scipy import stats\n",
        "import numpy as np\n",
        "\n",
        "class T_test:\n",
        "    def __init__(self, alpha=0.05):\n",
        "        self.alpha = alpha\n",
        "\n",
        "    def test_hypotheses(self, p_value):\n",
        "        if p_value < self.alpha:\n",
        "            return \"Reject H0\"\n",
        "        else:\n",
        "            return \"Fail to reject H0\"\n",
        "\n",
        "    def two_sample(self, sample1, sample2):\n",
        "        t_stat, p_value = stats.ttest_ind(sample1, sample2)\n",
        "        return t_stat, p_value\n",
        "\n",
        "class ABTesting(T_test):\n",
        "    def __init__(self, alpha=0.05):\n",
        "        super().__init__(alpha)\n",
        "\n",
        "    def run_test(self, sample1, sample2):\n",
        "        t_stat, p_value = self.two_sample(sample1, sample2)\n",
        "        return self.test_hypotheses(p_value)\n",
        "\n",
        "# Define the old and new flavor samples\n",
        "old_flavor = [6, 7, 8, 5, 6, 7, 5, 8, 6, 7, 5, 6, 7, 6, 5]\n",
        "new_flavor = [8, 9, 7, 8, 9, 6, 7, 8, 7, 8, 7, 8, 9, 6, 8]\n",
        "\n",
        "# Create an instance of the ABTesting class\n",
        "ab_test = ABTesting()\n",
        "\n",
        "# Run the two-sample t-test\n",
        "result = ab_test.run_test(old_flavor, new_flavor)\n",
        "\n",
        "# Print the result\n",
        "print(result)\n",
        "\n",
        "#The null hypothesis (H0) for this A/B testing problem would be that\n",
        "# there is no significant difference in preference between the old and new flavors of soda.\n",
        "# The alternative hypothesis (Ha) would be that\n",
        "# there is a significant difference in preference between the two flavors of soda."
      ],
      "metadata": {
        "colab": {
          "base_uri": "https://localhost:8080/"
        },
        "id": "6hmujKhWik95",
        "outputId": "7fd2c856-d7ca-4d71-ef8f-c9a1d640560f"
      },
      "execution_count": 10,
      "outputs": [
        {
          "output_type": "stream",
          "name": "stdout",
          "text": [
            "Reject H0\n"
          ]
        }
      ]
    },
    {
      "cell_type": "markdown",
      "source": [
        "________________________________The End________________________"
      ],
      "metadata": {
        "id": "sSetE_1tlGXv"
      }
    },
    {
      "cell_type": "code",
      "source": [],
      "metadata": {
        "id": "JU0NJvKKlK91"
      },
      "execution_count": null,
      "outputs": []
    },
    {
      "cell_type": "code",
      "source": [],
      "metadata": {
        "id": "JfLXdzralLA9"
      },
      "execution_count": null,
      "outputs": []
    },
    {
      "cell_type": "code",
      "source": [],
      "metadata": {
        "id": "MdMQRbSrlLG3"
      },
      "execution_count": null,
      "outputs": []
    },
    {
      "cell_type": "code",
      "source": [],
      "metadata": {
        "id": "eD1jl3BylLKD"
      },
      "execution_count": null,
      "outputs": []
    },
    {
      "cell_type": "code",
      "source": [],
      "metadata": {
        "id": "Slwm-vhHlLNa"
      },
      "execution_count": null,
      "outputs": []
    },
    {
      "cell_type": "code",
      "source": [],
      "metadata": {
        "id": "bCCThfbilLP9"
      },
      "execution_count": null,
      "outputs": []
    },
    {
      "cell_type": "code",
      "source": [
        "class ABTesting(T_test):\n",
        "    def __init__(self, alpha=0.05):\n",
        "        super().__init__(alpha)\n",
        "\n",
        "    def run_test(self, sample1, sample2):\n",
        "        t_stat, p_value = self.two_sample(sample1, sample2)\n",
        "        return self.test_hypotheses(p_value)\n"
      ],
      "metadata": {
        "id": "Bo0ELZPAiI7H"
      },
      "execution_count": 9,
      "outputs": []
    },
    {
      "cell_type": "code",
      "source": [
        "# AB Testing class that inherits from T-Test class\n",
        "from scipy.stats import ttest_ind\n",
        "\n",
        "class TTest:\n",
        "    def __init__(self, sample1, sample2):\n",
        "        self.sample1 = sample1\n",
        "        self.sample2 = sample2\n",
        "    \n",
        "    def calculate_t_statistic(self):\n",
        "        return ttest_ind(self.sample1, self.sample2).statistic\n",
        "    \n",
        "    def calculate_p_value(self):\n",
        "        return ttest_ind(self.sample1, self.sample2).pvalue\n",
        "\n",
        "class ABTesting(TTest):\n",
        "    def __init__(self, sample1, sample2):\n",
        "        super().__init__(sample1, sample2)\n",
        "\n",
        "    def test_mean_difference(self, alpha, alternative):\n",
        "        t_statistic = self.calculate_t_statistic()\n",
        "        p_value = self.calculate_p_value()\n",
        "        t_critical = self.find_t_critical(alpha, alternative)\n",
        "        \n",
        "        if alternative == \"two-sided\":\n",
        "            if abs(t_statistic) > t_critical:\n",
        "                print(\"Reject null hypothesis. There is a significant difference in means between the two groups.\")\n",
        "            else:\n",
        "                print(\"Fail to reject null hypothesis. There is no significant difference in means between the two groups.\")\n",
        "        elif alternative == \"greater\":\n",
        "            if t_statistic > t_critical:\n",
        "                print(\"Reject null hypothesis. The mean of the first group is greater than the mean of the second group.\")\n",
        "            else:\n",
        "                print(\"Fail to reject null hypothesis. The mean of the first group is not greater than the mean of the second group.\")\n",
        "        elif alternative == \"less\":\n",
        "            if t_statistic < -t_critical:\n",
        "                print(\"Reject null hypothesis. The mean of the first group is less than the mean of the second group.\")\n",
        "            else:\n",
        "                print(\"Fail to reject null hypothesis. The mean of the first group is not less than the mean of the second group.\")\n",
        "        \n",
        "        print(\"T-statistic:\", t_statistic)\n",
        "        print(\"P-value:\", p_value)\n",
        "    \n",
        "    def find_t_critical(self, alpha, alternative):\n",
        "        alpha = alpha / 2 if alternative == \"two-sided\" else alpha\n",
        "        df = len(self.sample1) + len(self.sample2) - 2\n",
        "        return abs(ttest_ind(self.sample1, self.sample2).ppf(alpha, df))"
      ],
      "metadata": {
        "id": "UzWxf_PhJnXy"
      },
      "execution_count": 2,
      "outputs": []
    },
    {
      "cell_type": "code",
      "source": [
        "import pandas as pd\n",
        "from scipy.stats import f_oneway\n",
        "\n",
        "# Create the dataframe\n",
        "data = {'Department': ['A']*10 + ['B']*10 + ['C']*10 + ['A']*5 + ['B']*5 + ['C']*5,\n",
        "        'Gender': ['Male']*5 + ['Female']*5 + ['Male']*5 + ['Female']*5 + ['Male']*5 + ['Female']*5,\n",
        "        'Salary': [55, 60, 50, 58, 63, 62, 57, 56, 61, 59,\n",
        "                   50, 52, 48, 49, 55, 53, 51, 54, 47, 50,\n",
        "                   45, 43, 48, 50, 42, 47, 49, 46, 44, 48,\n",
        "                   55, 60, 50, 58, 63, 50, 52, 48, 49, 55,\n",
        "                   62, 57, 56, 61, 59, 53, 51, 54, 47, 50,\n",
        "                   45, 43, 48, 50, 42, 47, 49, 46, 44, 48]}\n",
        "\n",
        "df = pd.DataFrame(data)\n",
        "\n",
        "# Perform the Two-Way ANOVA-test\n",
        "model = ols('Salary ~ C(Department) + C(Gender) + C(Department):C(Gender)', data=df).fit()\n",
        "table = sm.stats.anova_lm(model, typ=2)\n",
        "\n",
        "print(table)\n"
      ],
      "metadata": {
        "colab": {
          "base_uri": "https://localhost:8080/",
          "height": 380
        },
        "id": "iO4chWNbblE5",
        "outputId": "5f938731-7fa4-495a-88eb-749768cd914e"
      },
      "execution_count": 37,
      "outputs": [
        {
          "output_type": "error",
          "ename": "ValueError",
          "evalue": "ignored",
          "traceback": [
            "\u001b[0;31m---------------------------------------------------------------------------\u001b[0m",
            "\u001b[0;31mValueError\u001b[0m                                Traceback (most recent call last)",
            "\u001b[0;32m<ipython-input-37-0e286d8afc9d>\u001b[0m in \u001b[0;36m<cell line: 14>\u001b[0;34m()\u001b[0m\n\u001b[1;32m     12\u001b[0m                    45, 43, 48, 50, 42, 47, 49, 46, 44, 48]}\n\u001b[1;32m     13\u001b[0m \u001b[0;34m\u001b[0m\u001b[0m\n\u001b[0;32m---> 14\u001b[0;31m \u001b[0mdf\u001b[0m \u001b[0;34m=\u001b[0m \u001b[0mpd\u001b[0m\u001b[0;34m.\u001b[0m\u001b[0mDataFrame\u001b[0m\u001b[0;34m(\u001b[0m\u001b[0mdata\u001b[0m\u001b[0;34m)\u001b[0m\u001b[0;34m\u001b[0m\u001b[0;34m\u001b[0m\u001b[0m\n\u001b[0m\u001b[1;32m     15\u001b[0m \u001b[0;34m\u001b[0m\u001b[0m\n\u001b[1;32m     16\u001b[0m \u001b[0;31m# Perform the Two-Way ANOVA-test\u001b[0m\u001b[0;34m\u001b[0m\u001b[0;34m\u001b[0m\u001b[0m\n",
            "\u001b[0;32m/usr/local/lib/python3.9/dist-packages/pandas/core/frame.py\u001b[0m in \u001b[0;36m__init__\u001b[0;34m(self, data, index, columns, dtype, copy)\u001b[0m\n\u001b[1;32m    662\u001b[0m         \u001b[0;32melif\u001b[0m \u001b[0misinstance\u001b[0m\u001b[0;34m(\u001b[0m\u001b[0mdata\u001b[0m\u001b[0;34m,\u001b[0m \u001b[0mdict\u001b[0m\u001b[0;34m)\u001b[0m\u001b[0;34m:\u001b[0m\u001b[0;34m\u001b[0m\u001b[0;34m\u001b[0m\u001b[0m\n\u001b[1;32m    663\u001b[0m             \u001b[0;31m# GH#38939 de facto copy defaults to False only in non-dict cases\u001b[0m\u001b[0;34m\u001b[0m\u001b[0;34m\u001b[0m\u001b[0m\n\u001b[0;32m--> 664\u001b[0;31m             \u001b[0mmgr\u001b[0m \u001b[0;34m=\u001b[0m \u001b[0mdict_to_mgr\u001b[0m\u001b[0;34m(\u001b[0m\u001b[0mdata\u001b[0m\u001b[0;34m,\u001b[0m \u001b[0mindex\u001b[0m\u001b[0;34m,\u001b[0m \u001b[0mcolumns\u001b[0m\u001b[0;34m,\u001b[0m \u001b[0mdtype\u001b[0m\u001b[0;34m=\u001b[0m\u001b[0mdtype\u001b[0m\u001b[0;34m,\u001b[0m \u001b[0mcopy\u001b[0m\u001b[0;34m=\u001b[0m\u001b[0mcopy\u001b[0m\u001b[0;34m,\u001b[0m \u001b[0mtyp\u001b[0m\u001b[0;34m=\u001b[0m\u001b[0mmanager\u001b[0m\u001b[0;34m)\u001b[0m\u001b[0;34m\u001b[0m\u001b[0;34m\u001b[0m\u001b[0m\n\u001b[0m\u001b[1;32m    665\u001b[0m         \u001b[0;32melif\u001b[0m \u001b[0misinstance\u001b[0m\u001b[0;34m(\u001b[0m\u001b[0mdata\u001b[0m\u001b[0;34m,\u001b[0m \u001b[0mma\u001b[0m\u001b[0;34m.\u001b[0m\u001b[0mMaskedArray\u001b[0m\u001b[0;34m)\u001b[0m\u001b[0;34m:\u001b[0m\u001b[0;34m\u001b[0m\u001b[0;34m\u001b[0m\u001b[0m\n\u001b[1;32m    666\u001b[0m             \u001b[0;32mimport\u001b[0m \u001b[0mnumpy\u001b[0m\u001b[0;34m.\u001b[0m\u001b[0mma\u001b[0m\u001b[0;34m.\u001b[0m\u001b[0mmrecords\u001b[0m \u001b[0;32mas\u001b[0m \u001b[0mmrecords\u001b[0m\u001b[0;34m\u001b[0m\u001b[0;34m\u001b[0m\u001b[0m\n",
            "\u001b[0;32m/usr/local/lib/python3.9/dist-packages/pandas/core/internals/construction.py\u001b[0m in \u001b[0;36mdict_to_mgr\u001b[0;34m(data, index, columns, dtype, typ, copy)\u001b[0m\n\u001b[1;32m    491\u001b[0m             \u001b[0marrays\u001b[0m \u001b[0;34m=\u001b[0m \u001b[0;34m[\u001b[0m\u001b[0mx\u001b[0m\u001b[0;34m.\u001b[0m\u001b[0mcopy\u001b[0m\u001b[0;34m(\u001b[0m\u001b[0;34m)\u001b[0m \u001b[0;32mif\u001b[0m \u001b[0mhasattr\u001b[0m\u001b[0;34m(\u001b[0m\u001b[0mx\u001b[0m\u001b[0;34m,\u001b[0m \u001b[0;34m\"dtype\"\u001b[0m\u001b[0;34m)\u001b[0m \u001b[0;32melse\u001b[0m \u001b[0mx\u001b[0m \u001b[0;32mfor\u001b[0m \u001b[0mx\u001b[0m \u001b[0;32min\u001b[0m \u001b[0marrays\u001b[0m\u001b[0;34m]\u001b[0m\u001b[0;34m\u001b[0m\u001b[0;34m\u001b[0m\u001b[0m\n\u001b[1;32m    492\u001b[0m \u001b[0;34m\u001b[0m\u001b[0m\n\u001b[0;32m--> 493\u001b[0;31m     \u001b[0;32mreturn\u001b[0m \u001b[0marrays_to_mgr\u001b[0m\u001b[0;34m(\u001b[0m\u001b[0marrays\u001b[0m\u001b[0;34m,\u001b[0m \u001b[0mcolumns\u001b[0m\u001b[0;34m,\u001b[0m \u001b[0mindex\u001b[0m\u001b[0;34m,\u001b[0m \u001b[0mdtype\u001b[0m\u001b[0;34m=\u001b[0m\u001b[0mdtype\u001b[0m\u001b[0;34m,\u001b[0m \u001b[0mtyp\u001b[0m\u001b[0;34m=\u001b[0m\u001b[0mtyp\u001b[0m\u001b[0;34m,\u001b[0m \u001b[0mconsolidate\u001b[0m\u001b[0;34m=\u001b[0m\u001b[0mcopy\u001b[0m\u001b[0;34m)\u001b[0m\u001b[0;34m\u001b[0m\u001b[0;34m\u001b[0m\u001b[0m\n\u001b[0m\u001b[1;32m    494\u001b[0m \u001b[0;34m\u001b[0m\u001b[0m\n\u001b[1;32m    495\u001b[0m \u001b[0;34m\u001b[0m\u001b[0m\n",
            "\u001b[0;32m/usr/local/lib/python3.9/dist-packages/pandas/core/internals/construction.py\u001b[0m in \u001b[0;36marrays_to_mgr\u001b[0;34m(arrays, columns, index, dtype, verify_integrity, typ, consolidate)\u001b[0m\n\u001b[1;32m    116\u001b[0m         \u001b[0;31m# figure out the index, if necessary\u001b[0m\u001b[0;34m\u001b[0m\u001b[0;34m\u001b[0m\u001b[0m\n\u001b[1;32m    117\u001b[0m         \u001b[0;32mif\u001b[0m \u001b[0mindex\u001b[0m \u001b[0;32mis\u001b[0m \u001b[0;32mNone\u001b[0m\u001b[0;34m:\u001b[0m\u001b[0;34m\u001b[0m\u001b[0;34m\u001b[0m\u001b[0m\n\u001b[0;32m--> 118\u001b[0;31m             \u001b[0mindex\u001b[0m \u001b[0;34m=\u001b[0m \u001b[0m_extract_index\u001b[0m\u001b[0;34m(\u001b[0m\u001b[0marrays\u001b[0m\u001b[0;34m)\u001b[0m\u001b[0;34m\u001b[0m\u001b[0;34m\u001b[0m\u001b[0m\n\u001b[0m\u001b[1;32m    119\u001b[0m         \u001b[0;32melse\u001b[0m\u001b[0;34m:\u001b[0m\u001b[0;34m\u001b[0m\u001b[0;34m\u001b[0m\u001b[0m\n\u001b[1;32m    120\u001b[0m             \u001b[0mindex\u001b[0m \u001b[0;34m=\u001b[0m \u001b[0mensure_index\u001b[0m\u001b[0;34m(\u001b[0m\u001b[0mindex\u001b[0m\u001b[0;34m)\u001b[0m\u001b[0;34m\u001b[0m\u001b[0;34m\u001b[0m\u001b[0m\n",
            "\u001b[0;32m/usr/local/lib/python3.9/dist-packages/pandas/core/internals/construction.py\u001b[0m in \u001b[0;36m_extract_index\u001b[0;34m(data)\u001b[0m\n\u001b[1;32m    664\u001b[0m             \u001b[0mlengths\u001b[0m \u001b[0;34m=\u001b[0m \u001b[0mlist\u001b[0m\u001b[0;34m(\u001b[0m\u001b[0mset\u001b[0m\u001b[0;34m(\u001b[0m\u001b[0mraw_lengths\u001b[0m\u001b[0;34m)\u001b[0m\u001b[0;34m)\u001b[0m\u001b[0;34m\u001b[0m\u001b[0;34m\u001b[0m\u001b[0m\n\u001b[1;32m    665\u001b[0m             \u001b[0;32mif\u001b[0m \u001b[0mlen\u001b[0m\u001b[0;34m(\u001b[0m\u001b[0mlengths\u001b[0m\u001b[0;34m)\u001b[0m \u001b[0;34m>\u001b[0m \u001b[0;36m1\u001b[0m\u001b[0;34m:\u001b[0m\u001b[0;34m\u001b[0m\u001b[0;34m\u001b[0m\u001b[0m\n\u001b[0;32m--> 666\u001b[0;31m                 \u001b[0;32mraise\u001b[0m \u001b[0mValueError\u001b[0m\u001b[0;34m(\u001b[0m\u001b[0;34m\"All arrays must be of the same length\"\u001b[0m\u001b[0;34m)\u001b[0m\u001b[0;34m\u001b[0m\u001b[0;34m\u001b[0m\u001b[0m\n\u001b[0m\u001b[1;32m    667\u001b[0m \u001b[0;34m\u001b[0m\u001b[0m\n\u001b[1;32m    668\u001b[0m             \u001b[0;32mif\u001b[0m \u001b[0mhave_dicts\u001b[0m\u001b[0;34m:\u001b[0m\u001b[0;34m\u001b[0m\u001b[0;34m\u001b[0m\u001b[0m\n",
            "\u001b[0;31mValueError\u001b[0m: All arrays must be of the same length"
          ]
        }
      ]
    }
  ]
}