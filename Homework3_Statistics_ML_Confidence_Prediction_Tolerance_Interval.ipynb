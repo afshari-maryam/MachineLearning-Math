{
  "nbformat": 4,
  "nbformat_minor": 0,
  "metadata": {
    "colab": {
      "provenance": [],
      "authorship_tag": "ABX9TyPizXvn/Abo4HtRYWBiW1jT",
      "include_colab_link": true
    },
    "kernelspec": {
      "name": "python3",
      "display_name": "Python 3"
    },
    "language_info": {
      "name": "python"
    }
  },
  "cells": [
    {
      "cell_type": "markdown",
      "metadata": {
        "id": "view-in-github",
        "colab_type": "text"
      },
      "source": [
        "<a href=\"https://colab.research.google.com/github/afshari-maryam/MachineLearning-Math/blob/main/Homework3_Statistics_ML_Confidence_Prediction_Tolerance_Interval.ipynb\" target=\"_parent\"><img src=\"https://colab.research.google.com/assets/colab-badge.svg\" alt=\"Open In Colab\"/></a>"
      ]
    },
    {
      "cell_type": "markdown",
      "source": [
        "#Question 1. \n",
        "Suppose we have rooms. we have a dataset that shows the number of bedrooms and the selling price for 20 houses in a particular neighborhood\n",
        "\n",
        "Bedrooms = [1,1,1,2,2,2,2,3,3,3,3,3,3,3,4,4,4,5,5,6]\n",
        "\n",
        "Prices = [120,133,139,185,148,160,192,205,244,213,236,280,275,273,312,311,304,415,396,488]\n",
        "\n",
        "Using the Bedrooms data points:\n",
        "\n",
        "1.1. Extract a random sample of size 10\n",
        "\n",
        "1.2. Compute the mean and standard deviation of the sample\n",
        "\n",
        "1.3. Compute the the mean of the population\n",
        "\n",
        "1.4. Computer the confidence interval of 95% using the sample\n",
        "\n",
        "1.5. Check if the population mean lies between the upper and lower bounds of the interval\n"
      ],
      "metadata": {
        "id": "7DtEB3A2UMnm"
      }
    },
    {
      "cell_type": "markdown",
      "source": [
        "#Question 2 :\n",
        "Using both of the Bedrooms and the Prices:\n",
        "\n",
        "2.1. Compute the covariance and the correlation between the two variables\n",
        "\n",
        "2.2. Build a regression model and estimate the regression parameters (slope and intercept).\n",
        "\n",
        "2.3. Predict the house price for a house with 7 rooms\n",
        "\n",
        "2.4. Estimate the upper bound and the lower bounds of the prediction interval of a house with 7 rooms\n",
        "\n",
        "Alpha = 0.1\n",
        "\n",
        "N = 20\n",
        "\n",
        "Df = N-2\n",
        "\n"
      ],
      "metadata": {
        "id": "AA9FkcYlUiLm"
      }
    },
    {
      "cell_type": "code",
      "execution_count": null,
      "metadata": {
        "id": "ZN-25epCT92J"
      },
      "outputs": [],
      "source": []
    },
    {
      "cell_type": "markdown",
      "source": [
        "#Question 3: \n",
        "\n",
        "Using as sample of houses that have only 3 bedrooms \n",
        "\n",
        "3.1. Try to find the lower price that can be payed for a house with 3 rooms using Tolerance interval\n",
        "\n",
        "3.2. Try  to find the highest price that can be payed for a house with 3 rooms using Tolerance interval\n"
      ],
      "metadata": {
        "id": "tdUMFAxbUiQ_"
      }
    },
    {
      "cell_type": "markdown",
      "source": [
        "# Plus Question: \n",
        "Some Extra stuff:\n",
        "\n",
        "**Try to use these Formulas as well and compare the results**\n",
        "\n",
        "  We use the following formula to calculate a confidence interval:\n",
        "\n",
        "    ŷ0  +/-  tα/2,n-2 * Syx√((x0 – x̄)2/SSx + 1/n)\n",
        "\n",
        "  We use the following formula to calculate a prediction interval:\n",
        "\n",
        "    ŷ0  +/-  tα/2,n-2 * Syx√((x0 – x̄)2/SSx + 1/n + 1)\n",
        "\n",
        "  where:\n",
        "\n",
        "    ŷ0: Estimated mean value of response variable\n",
        "\n",
        "    tα/2,n-2: t-critical value with n-2 degrees of freedom\n",
        "\n",
        "    Syx: Standard error of response variable\n",
        "\n",
        "    x0: specific value of predictor variable \n",
        "\n",
        "    x̄: mean value of predictor variable\n",
        "\n",
        "    SSx: Sum of squares for predictor variable\n",
        "\n",
        "    n: Total sample size"
      ],
      "metadata": {
        "id": "aC1KE8cZVj95"
      }
    }
  ]
}