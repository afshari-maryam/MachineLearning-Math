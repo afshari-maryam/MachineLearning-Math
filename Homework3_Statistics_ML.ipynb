{
  "nbformat": 4,
  "nbformat_minor": 0,
  "metadata": {
    "colab": {
      "provenance": [],
      "authorship_tag": "ABX9TyO3QsTwk9qYbgtSiwN2pMFx",
      "include_colab_link": true
    },
    "kernelspec": {
      "name": "python3",
      "display_name": "Python 3"
    },
    "language_info": {
      "name": "python"
    }
  },
  "cells": [
    {
      "cell_type": "markdown",
      "metadata": {
        "id": "view-in-github",
        "colab_type": "text"
      },
      "source": [
        "<a href=\"https://colab.research.google.com/github/afshari-maryam/MachineLearning-Math/blob/main/Homework3_Statistics_ML.ipynb\" target=\"_parent\"><img src=\"https://colab.research.google.com/assets/colab-badge.svg\" alt=\"Open In Colab\"/></a>"
      ]
    },
    {
      "cell_type": "markdown",
      "source": [
        "#Question 1. \n",
        "Suppose we have rooms. we have a dataset that shows the number of bedrooms and the selling price for 20 houses in a particular neighborhood\n",
        "\n",
        "Bedrooms = [1,1,1,2,2,2,2,3,3,3,3,3,3,3,4,4,4,5,5,6]\n",
        "\n",
        "Prices = [120,133,139,185,148,160,192,205,244,213,236,280,275,273,312,311,304,415,396,488]\n",
        "\n",
        "Using the Bedrooms data points:\n",
        "\n",
        "1.1. Extract a random sample of size 10\n",
        "\n",
        "1.2. Compute the mean and standard deviation of the sample\n",
        "\n",
        "1.3. Compute the the mean of the population\n",
        "\n",
        "1.4. Computer the confidence interval of 95% using the sample\n",
        "\n",
        "1.5. Check if the population mean lies between the upper and lower bounds of the interval\n"
      ],
      "metadata": {
        "id": "7DtEB3A2UMnm"
      }
    },
    {
      "cell_type": "code",
      "source": [
        "import random\n",
        "\n",
        "Bedrooms = [1,1,1,2,2,2,2,3,3,3,3,3,3,3,4,4,4,5,5,6]\n",
        "\n",
        "sample = random.sample(Bedrooms, 10)\n",
        "print(sample)"
      ],
      "metadata": {
        "colab": {
          "base_uri": "https://localhost:8080/"
        },
        "id": "0tn9ADL5slpU",
        "outputId": "adbabdfd-557d-46b9-a000-7cdf56360caa"
      },
      "execution_count": 1,
      "outputs": [
        {
          "output_type": "stream",
          "name": "stdout",
          "text": [
            "[3, 3, 1, 3, 2, 2, 2, 3, 3, 6]\n"
          ]
        }
      ]
    },
    {
      "cell_type": "code",
      "source": [
        "import numpy as np\n",
        "\n",
        "sample_mean = np.mean(sample)\n",
        "sample_std = np.std(sample)\n",
        "\n",
        "print(\"Sample Mean:\", sample_mean)\n",
        "print(\"Sample Standard Deviation:\", sample_std)"
      ],
      "metadata": {
        "colab": {
          "base_uri": "https://localhost:8080/"
        },
        "id": "gUvtzp-dsshb",
        "outputId": "40d6a518-82e5-4632-ae1e-c7a7a3e61e5f"
      },
      "execution_count": 2,
      "outputs": [
        {
          "output_type": "stream",
          "name": "stdout",
          "text": [
            "Sample Mean: 2.8\n",
            "Sample Standard Deviation: 1.2489995996796797\n"
          ]
        }
      ]
    },
    {
      "cell_type": "code",
      "source": [
        "population_mean = np.mean(Bedrooms)\n",
        "print(\"Population Mean:\", population_mean)"
      ],
      "metadata": {
        "colab": {
          "base_uri": "https://localhost:8080/"
        },
        "id": "04vJlaYVs0Ma",
        "outputId": "aeff5701-421d-44e4-c0a4-f7a7bb05d7be"
      },
      "execution_count": 3,
      "outputs": [
        {
          "output_type": "stream",
          "name": "stdout",
          "text": [
            "Population Mean: 3.0\n"
          ]
        }
      ]
    },
    {
      "cell_type": "code",
      "source": [
        "import random\n",
        "import numpy as np\n",
        "from scipy.stats import t\n",
        "\n",
        "# Bedroom and Price data\n",
        "bedrooms = [1,1,1,2,2,2,2,3,3,3,3,3,3,3,4,4,4,5,5,6]\n",
        "prices = [120,133,139,185,148,160,192,205,244,213,236,280,275,273,312,311,304,415,396,488]\n",
        "\n",
        "# 1.1 Extract a random sample of size 10\n",
        "sample = random.sample(bedrooms, k=10)\n",
        "\n",
        "# 1.2 Compute the mean and standard deviation of the sample\n",
        "sample_mean = np.mean(sample)\n",
        "sample_std = np.std(sample, ddof=1)\n",
        "\n",
        "# 1.3 Compute the mean of the population\n",
        "pop_mean = np.mean(bedrooms)\n",
        "\n",
        "# 1.4 Compute the confidence interval of 95% using the sample\n",
        "n = len(sample)\n",
        "t_value = t.ppf(0.975, n-1)\n",
        "margin_error = t_value * sample_std / np.sqrt(n)\n",
        "ci = (sample_mean - margin_error, sample_mean + margin_error)\n",
        "print(\"onfidence interval of 95% using the sample  = \",ci)\n",
        "\n",
        "# 1.5 Check if the population mean lies between the upper and lower bounds of the interval\n",
        "if pop_mean >= ci[0] and pop_mean <= ci[1]:\n",
        "    print(\"The population mean lies within the confidence interval.\")\n",
        "else:\n",
        "    print(\"The population mean does not lie within the confidence interval.\")\n"
      ],
      "metadata": {
        "colab": {
          "base_uri": "https://localhost:8080/"
        },
        "id": "OytsxnwFtUTM",
        "outputId": "2c1e7bcf-7820-4aaf-8468-2dfea6fa2d5b"
      },
      "execution_count": 5,
      "outputs": [
        {
          "output_type": "stream",
          "name": "stdout",
          "text": [
            "onfidence interval of 95% using the sample  =  (1.9197318961455703, 3.8802681038544296)\n",
            "The population mean lies within the confidence interval.\n"
          ]
        }
      ]
    },
    {
      "cell_type": "markdown",
      "source": [
        "#Question 2 :\n",
        "Using both of the Bedrooms and the Prices:\n",
        "\n",
        "2.1. Compute the covariance and the correlation between the two variables\n",
        "\n",
        "2.2. Build a regression model and estimate the regression parameters (slope and intercept).\n",
        "\n",
        "2.3. Predict the house price for a house with 7 rooms\n",
        "\n",
        "2.4. Estimate the upper bound and the lower bounds of the prediction interval of a house with 7 rooms\n",
        "\n",
        "Alpha = 0.1\n",
        "\n",
        "N = 20\n",
        "\n",
        "Df = N-2\n",
        "\n"
      ],
      "metadata": {
        "id": "AA9FkcYlUiLm"
      }
    },
    {
      "cell_type": "code",
      "execution_count": 6,
      "metadata": {
        "colab": {
          "base_uri": "https://localhost:8080/"
        },
        "id": "ZN-25epCT92J",
        "outputId": "4463d2da-dbb4-4268-aa78-7a95f8c8c6e4"
      },
      "outputs": [
        {
          "output_type": "stream",
          "name": "stdout",
          "text": [
            "Covariance:  133.89473684210526\n",
            "Correlation:  0.9719379327871167\n",
            "Slope:  70.66666666666666\n",
            "Intercept:  39.45000000000002\n",
            "Predicted price for a house with 7 rooms:  534.1166666666667\n",
            "Upper bound of the prediction interval:  666.3471131071228\n",
            "Lower bound of the prediction interval:  401.8862202262105\n"
          ]
        }
      ],
      "source": [
        "import numpy as np\n",
        "from scipy.stats import t\n",
        "\n",
        "# Bedroom and Price data\n",
        "bedrooms = [1,1,1,2,2,2,2,3,3,3,3,3,3,3,4,4,4,5,5,6]\n",
        "prices = [120,133,139,185,148,160,192,205,244,213,236,280,275,273,312,311,304,415,396,488]\n",
        "\n",
        "# 2.1 Compute the covariance and correlation between the two variables\n",
        "covariance = np.cov(bedrooms, prices, ddof=1)[0][1]\n",
        "correlation = np.corrcoef(bedrooms, prices)[0][1]\n",
        "\n",
        "# 2.2 Build a regression model and estimate the regression parameters (slope and intercept)\n",
        "x = np.array(bedrooms)\n",
        "y = np.array(prices)\n",
        "n = len(x)\n",
        "x_mean = np.mean(x)\n",
        "y_mean = np.mean(y)\n",
        "xy_mean = np.mean(x*y)\n",
        "x_square_mean = np.mean(x**2)\n",
        "\n",
        "slope = (xy_mean - x_mean*y_mean)/(x_square_mean - x_mean**2)\n",
        "intercept = y_mean - slope*x_mean\n",
        "\n",
        "# 2.3 Predict the house price for a house with 7 rooms\n",
        "predicted_price = slope*7 + intercept\n",
        "\n",
        "# 2.4 Estimate the upper bound and the lower bounds of the prediction interval of a house with 7 rooms\n",
        "alpha = 0.1\n",
        "df = n - 2\n",
        "t_value = t.ppf(1 - alpha/2, df)\n",
        "std_error = np.sqrt((1/(n-2)) * np.sum((y - slope*x - intercept)**2))\n",
        "margin_error = t_value * std_error * np.sqrt(1 + 1/n + ((7 - x_mean)**2)/(x_square_mean - x_mean**2))\n",
        "lower_bound = predicted_price - margin_error\n",
        "upper_bound = predicted_price + margin_error\n",
        "\n",
        "print(\"Covariance: \", covariance)\n",
        "print(\"Correlation: \", correlation)\n",
        "print(\"Slope: \", slope)\n",
        "print(\"Intercept: \", intercept)\n",
        "print(\"Predicted price for a house with 7 rooms: \", predicted_price)\n",
        "print(\"Upper bound of the prediction interval: \", upper_bound)\n",
        "print(\"Lower bound of the prediction interval: \", lower_bound)\n"
      ]
    },
    {
      "cell_type": "markdown",
      "source": [
        "#Question 3: \n",
        "\n",
        "Using as sample of houses that have only 3 bedrooms \n",
        "\n",
        "3.1. Try to find the lower price that can be payed for a house with 3 rooms using Tolerance interval\n",
        "\n",
        "3.2. Try  to find the highest price that can be payed for a house with 3 rooms using Tolerance interval\n"
      ],
      "metadata": {
        "id": "tdUMFAxbUiQ_"
      }
    },
    {
      "cell_type": "code",
      "source": [
        "from scipy.stats import t\n",
        "n = 10\n",
        "df = n-1\n",
        "alpha = 0.05\n",
        "tol_factor = t.ppf(1-alpha/2, df) * np.sqrt((n-1)/n)"
      ],
      "metadata": {
        "id": "ZyogezwAt4PF"
      },
      "execution_count": 7,
      "outputs": []
    },
    {
      "cell_type": "code",
      "source": [
        "sample_prices = [244, 213, 236, 280, 275, 273, 312, 311, 304]"
      ],
      "metadata": {
        "id": "j1Q79N-Ft6lN"
      },
      "execution_count": 8,
      "outputs": []
    },
    {
      "cell_type": "code",
      "source": [
        "sample_mean = np.mean(sample_prices)\n",
        "sample_std = np.std(sample_prices, ddof=1)\n",
        "lower_bound = sample_mean - tol_factor * sample_std\n",
        "print(\"Lower bound of the tolerance interval: \", lower_bound)"
      ],
      "metadata": {
        "colab": {
          "base_uri": "https://localhost:8080/"
        },
        "id": "GjqQXw37t9vU",
        "outputId": "984f61c0-8eea-4f45-db00-820447e46fdb"
      },
      "execution_count": 9,
      "outputs": [
        {
          "output_type": "stream",
          "name": "stdout",
          "text": [
            "Lower bound of the tolerance interval:  196.9642094025015\n"
          ]
        }
      ]
    },
    {
      "cell_type": "code",
      "source": [
        "upper_bound = sample_mean + tol_factor * sample_std\n",
        "print(\"Upper bound of the tolerance interval: \", upper_bound)\n"
      ],
      "metadata": {
        "colab": {
          "base_uri": "https://localhost:8080/"
        },
        "id": "3xJZvHHOuFRe",
        "outputId": "7aab0f9e-6bac-4efa-f33b-cc3093359693"
      },
      "execution_count": 10,
      "outputs": [
        {
          "output_type": "stream",
          "name": "stdout",
          "text": [
            "Upper bound of the tolerance interval:  347.0357905974985\n"
          ]
        }
      ]
    },
    {
      "cell_type": "markdown",
      "source": [
        "# Plus Question: \n",
        "Some Extra stuff:\n",
        "\n",
        "**Try to use these Formulas as well and compare the results**\n",
        "\n",
        "  We use the following formula to calculate a confidence interval:\n",
        "\n",
        "    ŷ0  +/-  tα/2,n-2 * Syx√((x0 – x̄)2/SSx + 1/n)\n",
        "\n",
        "  We use the following formula to calculate a prediction interval:\n",
        "\n",
        "    ŷ0  +/-  tα/2,n-2 * Syx√((x0 – x̄)2/SSx + 1/n + 1)\n",
        "\n",
        "  where:\n",
        "\n",
        "    ŷ0: Estimated mean value of response variable\n",
        "\n",
        "    tα/2,n-2: t-critical value with n-2 degrees of freedom\n",
        "\n",
        "    Syx: Standard error of response variable\n",
        "\n",
        "    x0: specific value of predictor variable \n",
        "\n",
        "    x̄: mean value of predictor variable\n",
        "\n",
        "    SSx: Sum of squares for predictor variable\n",
        "\n",
        "    n: Total sample size"
      ],
      "metadata": {
        "id": "aC1KE8cZVj95"
      }
    },
    {
      "cell_type": "code",
      "source": [
        "import numpy as np\n",
        "from scipy.stats import t\n",
        "\n",
        "# Sample data\n",
        "bedrooms = np.array([1, 1, 1, 2, 2, 2, 2, 3, 3, 3, 3, 3, 3, 3, 4, 4, 4, 5, 5, 6])\n",
        "prices = np.array([120, 133, 139, 185, 148, 160, 192, 205, 244, 213, 236, 280, 275, 273, 312, 311, 304, 415, 396, 488])\n",
        "x0 = 3  # Specific value of predictor variable\n",
        "\n",
        "# Extract a sample of houses with 3 bedrooms\n",
        "sample = prices[bedrooms == x0]\n",
        "n = len(sample)\n",
        "\n",
        "# Compute mean and standard deviation of the sample\n",
        "sample_mean = np.mean(sample)\n",
        "sample_std = np.std(sample, ddof=1)\n",
        "\n",
        "# Compute sum of squares for predictor variable\n",
        "SSx = np.sum((bedrooms - np.mean(bedrooms))**2)\n",
        "\n",
        "# Compute standard error of response variable\n",
        "Syx = np.sqrt(np.sum((sample - sample_mean)**2)/(n-2))\n",
        "\n",
        "# Compute t-critical value\n",
        "alpha = 0.1\n",
        "df = n-2\n",
        "t_crit = t.ppf(1-alpha/2, df)\n",
        "\n",
        "# Compute prediction interval\n",
        "x_bar = np.mean(bedrooms)\n",
        "SE_pred = Syx*np.sqrt((x0 - x_bar)**2/SSx + 1/n + 1)\n",
        "lower_bound = sample_mean - t_crit*SE_pred\n",
        "upper_bound = sample_mean + t_crit*SE_pred\n",
        "\n",
        "print(\"Lower bound of the prediction interval: \", lower_bound)\n",
        "print(\"Upper bound of the prediction interval: \", upper_bound)\n"
      ],
      "metadata": {
        "colab": {
          "base_uri": "https://localhost:8080/"
        },
        "id": "snuHwRCsupmH",
        "outputId": "9d9d24ef-86e5-4180-bd2e-7432c1662add"
      },
      "execution_count": 11,
      "outputs": [
        {
          "output_type": "stream",
          "name": "stdout",
          "text": [
            "Lower bound of the prediction interval:  174.49358061302246\n",
            "Upper bound of the prediction interval:  318.6492765298347\n"
          ]
        }
      ]
    }
  ]
}