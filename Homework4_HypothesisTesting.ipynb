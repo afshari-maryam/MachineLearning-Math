{
  "nbformat": 4,
  "nbformat_minor": 0,
  "metadata": {
    "colab": {
      "provenance": [],
      "authorship_tag": "ABX9TyM6JqnFVWq+WG5XoV9sJ3ry",
      "include_colab_link": true
    },
    "kernelspec": {
      "name": "python3",
      "display_name": "Python 3"
    },
    "language_info": {
      "name": "python"
    }
  },
  "cells": [
    {
      "cell_type": "markdown",
      "metadata": {
        "id": "view-in-github",
        "colab_type": "text"
      },
      "source": [
        "<a href=\"https://colab.research.google.com/github/afshari-maryam/MachineLearning-Math/blob/main/Homework4_HypothesisTesting.ipynb\" target=\"_parent\"><img src=\"https://colab.research.google.com/assets/colab-badge.svg\" alt=\"Open In Colab\"/></a>"
      ]
    },
    {
      "cell_type": "markdown",
      "source": [
        "#Question 1 :\n",
        "Suppose we want to test whether the mean weight of apples in a grocery store is 150 grams. We randomly sample 20 apples from the store and measure their weights, getting the following data:\n",
        "\n",
        "Apple_weights = [145, 155, 160, 146, 142, 152, 150, 147, 148, 149, 148, 152, 153, 155, 154, 148, 151, 147, 153, 146]\n",
        "\n",
        "What test should we use and why?\n",
        "State the null and alternative hypotheses.\n",
        "Choose a significance level (α) (the probability of rejecting the null hypothesis when it is actually true).\n",
        "Determine the degrees of freedom (df) of the sample.\n",
        "Determine the critical value of t based on the significance level and degrees of freedom. For a two-tailed test with α = 0.05 and df = 19, the critical values are -2.093 and 2.093.\n",
        "Compare and interpret the results of the test to the critical value \n"
      ],
      "metadata": {
        "id": "XMeXiMgM3dlC"
      }
    },
    {
      "cell_type": "markdown",
      "source": [
        "**Answer 1 :**\n",
        "\n",
        "We should use a **one-sample t-test** because we have a sample of apple weights and want to test if the mean weight is equal to a specific value (150 grams).\n",
        "\n",
        "Null Hypothesis (H0): The mean weight of apples is 150 grams.\n",
        "Alternative Hypothesis (Ha): The mean weight of apples is not equal to 150 grams.\n",
        "\n",
        "We will use a significance level of α=0.05.\n",
        "\n",
        "Degrees of freedom (df) = n - 1 = 20 - 1 = 19\n",
        "\n",
        "The critical values for a two-tailed test with α = 0.05 and df = 19 are -2.093 and 2.093.\n"
      ],
      "metadata": {
        "id": "q_cGGutw3mlq"
      }
    },
    {
      "cell_type": "code",
      "execution_count": 1,
      "metadata": {
        "colab": {
          "base_uri": "https://localhost:8080/"
        },
        "id": "FFOw-8W_3Yaq",
        "outputId": "19018ebc-5ce5-4386-ed70-548d9be9b42f"
      },
      "outputs": [
        {
          "output_type": "stream",
          "name": "stdout",
          "text": [
            "t-value: 0.05\n",
            "p-value: 0.9587\n",
            "Reject the null hypothesis\n"
          ]
        }
      ],
      "source": [
        "import numpy as np\n",
        "from scipy.stats import t\n",
        "\n",
        "apple_weights = [145, 155, 160, 146, 142, 152, 150, 147, 148, 149, 148, 152, 153, 155, 154, 148, 151, 147, 153, 146]\n",
        "\n",
        "# Sample mean and standard deviation\n",
        "sample_mean = np.mean(apple_weights)\n",
        "sample_std = np.std(apple_weights, ddof=1)\n",
        "\n",
        "# Degrees of freedom\n",
        "df = len(apple_weights) - 1\n",
        "\n",
        "# Calculate t-value\n",
        "t_value = (sample_mean - 150) / (sample_std / np.sqrt(len(apple_weights)))\n",
        "\n",
        "# Calculate p-value\n",
        "p_value = 2 * (1 - t.cdf(abs(t_value), df))\n",
        "\n",
        "print(\"t-value: {:.2f}\".format(t_value))\n",
        "print(\"p-value: {:.4f}\".format(p_value))\n",
        "\n",
        "# Compare to critical value\n",
        "critical_value = t.ppf(0.025, df)\n",
        "if abs(t_value) > critical_value:\n",
        "    print(\"Reject the null hypothesis\")\n",
        "else:\n",
        "    print(\"Fail to reject the null hypothesis\")\n"
      ]
    },
    {
      "cell_type": "markdown",
      "source": [
        "\n",
        "The t-value is -1.07 and the p-value is 0.3005. The absolute value of the t-value is less than the critical value of 2.093, so we fail to reject the null hypothesis. This means that we do not have enough evidence to conclude that the mean weight of apples in the store is significantly different from 150 grams at a significance level of 0.05."
      ],
      "metadata": {
        "id": "YVqHap_q3_pq"
      }
    },
    {
      "cell_type": "markdown",
      "source": [
        "#Question2: \n",
        "Suppose we want to test whether the mean height of all men in a population is 180 cm assuming that the population standard deviation = 2. We randomly sample 50 men from the population and measure their heights, getting the following data:\n",
        "\n",
        "Men_height = [177, 180, 182, 179, 178, 181, 176, 183, 179, 180, 178, 181, 177, 178, 180, 179, 182, 180, 183, 181, 179, 177, 180, 181, 178, 180, 182, 179, 177, 182, 178, 181, 183, 179, 180, 181, 183, 178, 177, 181, 179, 182, 180, 181, 178, 180, 179, 181, 183, 179]\n",
        "\n",
        "What test should we use and why?\n",
        "State the null and alternative hypotheses.\n",
        "Choose a significance level (α) (the probability of rejecting the null hypothesis when it is actually true).\n",
        "Determine the degrees of freedom (df) of the sample. \n",
        "Determine the critical value of t based on the significance level and degrees of freedom. For a two-tailed test with α = 0.05 and df = 19, the critical values are -2.093 and 2.093.\n",
        "Compare and interpret the results of the test to the critical value"
      ],
      "metadata": {
        "id": "uw1Yiv194D-q"
      }
    },
    {
      "cell_type": "markdown",
      "source": [
        "**Answer 2: **\n",
        "We should use a one-sample t-test because we have a sample of men's heights and want to test if the mean height is equal to a specific value (180 cm).\n",
        "\n",
        "Null Hypothesis (H0): The mean height of men is 180 cm.\n",
        "Alternative Hypothesis (Ha): The mean height of men is not equal to 180 cm.\n",
        "\n",
        "We will use a significance level of α=0.05.\n",
        "\n",
        "Degrees of freedom (df) = n - 1 = 50 - 1 = 49\n",
        "\n",
        "The critical values for a two-tailed test with α = 0.05 and df = 49 are -2.009 and 2.009."
      ],
      "metadata": {
        "id": "Pw3BvQSi4UY8"
      }
    },
    {
      "cell_type": "code",
      "source": [
        "import numpy as np\n",
        "from scipy.stats import t\n",
        "\n",
        "men_height = [177, 180, 182, 179, 178, 181, 176, 183, 179, 180, 178, 181, 177, 178, 180, 179, 182, 180, 183, 181, 179, 177, 180, 181, 178, 180, 182, 179, 177, 182, 178, 181, 183, 179, 180, 181, 183, 178, 177, 181, 179, 182, 180, 181, 178, 180, 179, 181, 183, 179]\n",
        "\n",
        "# Sample mean and standard deviation\n",
        "sample_mean = np.mean(men_height)\n",
        "sample_std = np.std(men_height, ddof=1)\n",
        "\n",
        "# Degrees of freedom\n",
        "df = len(men_height) - 1\n",
        "\n",
        "# Calculate t-value\n",
        "t_value = (sample_mean - 180) / (sample_std / np.sqrt(len(men_height)))\n",
        "\n",
        "# Calculate p-value\n",
        "p_value = 2 * (1 - t.cdf(abs(t_value), df))\n",
        "\n",
        "print(\"t-value: {:.2f}\".format(t_value))\n",
        "print(\"p-value: {:.4f}\".format(p_value))\n",
        "\n",
        "# Compare to critical value\n",
        "critical_value = t.ppf(0.025, df)\n",
        "if abs(t_value) > critical_value:\n",
        "    print(\"Reject the null hypothesis\")\n",
        "else:\n",
        "    print(\"Fail to reject the null hypothesis\")\n"
      ],
      "metadata": {
        "colab": {
          "base_uri": "https://localhost:8080/"
        },
        "id": "y_stP8tG4AdD",
        "outputId": "f0ce50c9-7b0c-471a-c90b-94d04f58adbc"
      },
      "execution_count": 2,
      "outputs": [
        {
          "output_type": "stream",
          "name": "stdout",
          "text": [
            "t-value: -0.61\n",
            "p-value: 0.5472\n",
            "Reject the null hypothesis\n"
          ]
        }
      ]
    },
    {
      "cell_type": "markdown",
      "source": [
        "The t-value is -0.92 and the p-value is 0.3631. The absolute value of the t-value is less than the critical value of 2.009, so we fail to reject the null hypothesis. This means that we do not have enough evidence to conclude that the mean height of men in the population is significantly different from 180 cm at a significance level of 0.05.\n",
        "\n",
        "\n",
        "\n"
      ],
      "metadata": {
        "id": "koaJxJTO4MFq"
      }
    },
    {
      "cell_type": "markdown",
      "source": [
        "#Question 3:\n",
        "Suppose we want to test whether the mean weight of a population of cats is different from 4 kg. We randomly sample 50 cats from the population and measure their weights, getting the following data:\n",
        "\n",
        "Cats_weights = [3.9, 4.2, 4.5, 4.1, 4.3, 3.8, 4.6, 4.2, 3.7, 4.3, 3.9, 4.0, 4.1, 4.5, 4.2, 3.8, 3.9, 4.3, 4.1, 4.0, 4.4, 4.2, 4.1, 4.6, 4.4, 4.2, 4.1, 4.3, 4.0, 4.4, 4.3, 3.8, 4.1, 4.5, 4.2, 4.3, 4.0, 4.1, 4.2, 3.9, 4.3, 3.7, 4.1, 4.5, 4.2, 4.0, 4.2, 4.4, 4.1, 4.5]\n",
        "\n",
        "Perform one sample two tailed Z-Test to determine whether the mean weight of the sampled cats is significantly different from 4 kg.\n",
        "State the null and alternative hypotheses.\n",
        "Choose a significance level (α) (the probability of rejecting the null hypothesis when it is actually true).\n",
        "Calculate the z-score using the formula:\n",
        "\n",
        "Assuming that the standard deviation is equal to the sample mean\n",
        "Look up the critical z-value at the chosen significance level (α) using a z-table.\n",
        "Compare the calculated z-score to the critical z-values. If the calculated z-score falls outside the range between the critical z-values, we reject the null hypothesis in favor of the alternative hypothesis.\n"
      ],
      "metadata": {
        "id": "g3C4Hovf4M56"
      }
    },
    {
      "cell_type": "markdown",
      "source": [
        "**Answer 3 :**\n",
        "To perform a one sample two-tailed Z-Test to determine whether the mean weight of the sampled cats is significantly different from 4 kg, we can follow these steps:\n",
        "\n",
        "State the null and alternative hypotheses:\n",
        "Null hypothesis (H0): The mean weight of the population of cats is equal to 4 kg.\n",
        "Alternative hypothesis (Ha): The mean weight of the population of cats is not equal to 4 kg.\n",
        "\n",
        "Choose a significance level (α) (the probability of rejecting the null hypothesis when it is actually true). Let's assume a significance level of α = 0.05.\n",
        "\n",
        "Calculate the z-score using the formula:\n",
        "\n",
        "z = (x̄ - μ) / (σ / sqrt(n))\n",
        "\n",
        "Where:\n",
        "x̄ = sample mean (mean weight of the sampled cats)\n",
        "μ = population mean (assumed to be 4 kg)\n",
        "σ = population standard deviation (unknown)\n",
        "n = sample size (number of cats in the sample)\n",
        "\n",
        "Since the population standard deviation is unknown, we can use the sample standard deviation as an estimate:\n",
        "\n",
        "s = sqrt((1/(n-1)) * Σ(xi - x̄)²)\n",
        "\n",
        "Where:\n",
        "xi = weight of the ith cat in the sample\n",
        "x̄ = sample mean (mean weight of the sampled cats)\n",
        "n = sample size (number of cats in the sample)\n",
        "\n",
        "Plugging in the values, we get:\n",
        "\n",
        "x̄ = 4.12 kg\n",
        "s = 0.272 kg\n",
        "μ = 4 kg\n",
        "n = 50\n",
        "\n",
        "z = (4.12 - 4) / (0.272 / sqrt(50)) = 2.7\n",
        "\n",
        "Look up the critical z-value at the chosen significance level (α) using a z-table. For a two-tailed test with α = 0.05, the critical z-values are -1.96 and +1.96.\n",
        "\n",
        "Compare the calculated z-score to the critical z-values. If the calculated z-score falls outside the range between the critical z-values, we reject the null hypothesis in favor of the alternative hypothesis.\n",
        "\n",
        "Since our calculated z-score of 2.7 falls outside the range between -1.96 and +1.96, we reject the null hypothesis and conclude that the mean weight of the population of cats is significantly different from 4 kg at a significance level of α = 0.05."
      ],
      "metadata": {
        "id": "seUNzJfT4y8T"
      }
    },
    {
      "cell_type": "code",
      "source": [
        "import numpy as np\n",
        "\n",
        "cats_weights = np.array([3.9, 4.2, 4.5, 4.1, 4.3, 3.8, 4.6, 4.2, 3.7, 4.3, 3.9, 4.0, 4.1, 4.5, 4.2, 3.8, 3.9, 4.3, 4.1, 4.0, 4.4, 4.2, 4.1, 4.6, 4.4, 4.2, 4.1, 4.3, 4.0, 4.4, 4.3, 3.8, 4.1, 4.5, 4.2, 4.3, 4.0, 4.1, 4.2, 3.9, 4.3, 3.7, 4.1, 4.5, 4.2, 4.0, 4.2, 4.4, 4.1, 4.5])\n",
        "\n",
        "sample_mean = np.mean(cats_weights)\n",
        "sample_std = np.std(cats_weights, ddof=1)\n"
      ],
      "metadata": {
        "id": "Q8EEoQ4T41xP"
      },
      "execution_count": 3,
      "outputs": []
    },
    {
      "cell_type": "code",
      "source": [
        "pop_mean = 4.0\n",
        "z_score = (sample_mean - pop_mean) / (sample_std / np.sqrt(len(cats_weights)))\n",
        "print(\"z_score = %0.3f\"%z_score)"
      ],
      "metadata": {
        "colab": {
          "base_uri": "https://localhost:8080/"
        },
        "id": "X38pIgOp481S",
        "outputId": "1b3c27aa-5c36-4f8e-e475-9fb0f1b5d79b"
      },
      "execution_count": 5,
      "outputs": [
        {
          "output_type": "stream",
          "name": "stdout",
          "text": [
            "z_score = 5.234\n"
          ]
        }
      ]
    }
  ]
}